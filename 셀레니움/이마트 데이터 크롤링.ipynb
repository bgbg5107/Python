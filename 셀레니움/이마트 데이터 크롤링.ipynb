{
 "cells": [
  {
   "cell_type": "code",
   "execution_count": 2,
   "id": "5cfeab63",
   "metadata": {
    "scrolled": true
   },
   "outputs": [
    {
     "name": "stderr",
     "output_type": "stream",
     "text": [
      "/var/folders/wy/34j5dqtj7rq_z64p1mtz2f_w0000gn/T/ipykernel_7622/880518754.py:13: DeprecationWarning: executable_path has been deprecated, please pass in a Service object\n",
      "  driver = webdriver.Chrome('/Users/jiyoung/chromedriver')\n",
      "/var/folders/wy/34j5dqtj7rq_z64p1mtz2f_w0000gn/T/ipykernel_7622/880518754.py:17: DeprecationWarning: find_element_by_css_selector is deprecated. Please use find_element(by=By.CSS_SELECTOR, value=css_selector) instead\n",
      "  loginBtn = driver.find_element_by_css_selector('#loginBtn>a') #이미지 인증방지 로그인\n",
      "/var/folders/wy/34j5dqtj7rq_z64p1mtz2f_w0000gn/T/ipykernel_7622/880518754.py:24: DeprecationWarning: find_element_by_css_selector is deprecated. Please use find_element(by=By.CSS_SELECTOR, value=css_selector) instead\n",
      "  id = driver.find_element_by_css_selector('#mem_id')\n",
      "/var/folders/wy/34j5dqtj7rq_z64p1mtz2f_w0000gn/T/ipykernel_7622/880518754.py:27: DeprecationWarning: find_element_by_css_selector is deprecated. Please use find_element(by=By.CSS_SELECTOR, value=css_selector) instead\n",
      "  pw = driver.find_element_by_css_selector('#mem_pw')\n",
      "/var/folders/wy/34j5dqtj7rq_z64p1mtz2f_w0000gn/T/ipykernel_7622/880518754.py:30: DeprecationWarning: find_element_by_css_selector is deprecated. Please use find_element(by=By.CSS_SELECTOR, value=css_selector) instead\n",
      "  login = driver.find_element_by_css_selector('.cmem_btn.cmem_btn_ornge')\n"
     ]
    }
   ],
   "source": [
    "from selenium import webdriver\n",
    "from webdriver_manager.chrome import ChromeDriverManager\n",
    "from bs4 import BeautifulSoup\n",
    "from selenium.webdriver.common.keys import Keys\n",
    "import time\n",
    "from selenium.webdriver.common.desired_capabilities import DesiredCapabilities\n",
    "import pandas as pd\n",
    "from tqdm import tqdm_notebook\n",
    "from selenium.webdriver.common.keys import Keys\n",
    "import traceback\n",
    "import pymysql\n",
    "\n",
    "driver = webdriver.Chrome('/Users/jiyoung/chromedriver')\n",
    "driver.get('https://emart.ssg.com/category/main.ssg?dispCtgId=6000095739')\n",
    "time.sleep(1.5)\n",
    "\n",
    "loginBtn = driver.find_element_by_css_selector('#loginBtn>a') #이미지 인증방지 로그인\n",
    "loginBtn.click()\n",
    "time.sleep(1)\n",
    "\n",
    "driver.switch_to.window(driver.window_handles[1]) # 로그인 새창에서 send_key\n",
    "time.sleep(1)\n",
    "\n",
    "id = driver.find_element_by_css_selector('#mem_id')\n",
    "id.send_keys('dlwldud5107')\n",
    "\n",
    "pw = driver.find_element_by_css_selector('#mem_pw')\n",
    "pw.send_keys('bgbg1726!!')\n",
    "\n",
    "login = driver.find_element_by_css_selector('.cmem_btn.cmem_btn_ornge')\n",
    "login.click()\n",
    "time.sleep(1)"
   ]
  },
  {
   "cell_type": "code",
   "execution_count": 4,
   "id": "7f7dd85b",
   "metadata": {},
   "outputs": [
    {
     "name": "stderr",
     "output_type": "stream",
     "text": [
      "/var/folders/wy/34j5dqtj7rq_z64p1mtz2f_w0000gn/T/ipykernel_7622/1899987413.py:17: TqdmDeprecationWarning: This function will be removed in tqdm==5.0.0\n",
      "Please use `tqdm.notebook.tqdm` instead of `tqdm.tqdm_notebook`\n",
      "  for i in tqdm_notebook(range(1,17)):\n"
     ]
    },
    {
     "data": {
      "application/vnd.jupyter.widget-view+json": {
       "model_id": "4424e3de36054672aeeda9e95e9e78a2",
       "version_major": 2,
       "version_minor": 0
      },
      "text/plain": [
       "  0%|          | 0/16 [00:00<?, ?it/s]"
      ]
     },
     "metadata": {},
     "output_type": "display_data"
    },
    {
     "name": "stderr",
     "output_type": "stream",
     "text": [
      "/var/folders/wy/34j5dqtj7rq_z64p1mtz2f_w0000gn/T/ipykernel_7622/1899987413.py:19: DeprecationWarning: find_element_by_css_selector is deprecated. Please use find_element(by=By.CSS_SELECTOR, value=css_selector) instead\n",
      "  category_button = driver.find_element_by_css_selector('.em_nav_all>.emctg_open')\n",
      "/var/folders/wy/34j5dqtj7rq_z64p1mtz2f_w0000gn/T/ipykernel_7622/1899987413.py:24: DeprecationWarning: find_element_by_css_selector is deprecated. Please use find_element(by=By.CSS_SELECTOR, value=css_selector) instead\n",
      "  next_category = driver.find_element_by_css_selector(f'#e_gnb > div > div.em_nav_all > div > ul:nth-child(2) > li:nth-child({i}) > a')\n",
      "/var/folders/wy/34j5dqtj7rq_z64p1mtz2f_w0000gn/T/ipykernel_7622/1899987413.py:32: TqdmDeprecationWarning: This function will be removed in tqdm==5.0.0\n",
      "Please use `tqdm.notebook.tqdm` instead of `tqdm.tqdm_notebook`\n",
      "  for j in tqdm_notebook(range(1,11)): #1-10페이지까지\n"
     ]
    },
    {
     "data": {
      "application/vnd.jupyter.widget-view+json": {
       "model_id": "7a4b4094cc0643bf916e4507b05a0626",
       "version_major": 2,
       "version_minor": 0
      },
      "text/plain": [
       "  0%|          | 0/10 [00:00<?, ?it/s]"
      ]
     },
     "metadata": {},
     "output_type": "display_data"
    },
    {
     "name": "stderr",
     "output_type": "stream",
     "text": [
      "/var/folders/wy/34j5dqtj7rq_z64p1mtz2f_w0000gn/T/ipykernel_7622/1899987413.py:33: DeprecationWarning: find_element_by_xpath is deprecated. Please use find_element(by=By.XPATH, value=xpath) instead\n",
      "  next_btn = driver.find_element_by_xpath(f'//*[@id=\"area_itemlist\"]/div[2]/a[{j}]')\n",
      "/var/folders/wy/34j5dqtj7rq_z64p1mtz2f_w0000gn/T/ipykernel_7622/1899987413.py:54: DeprecationWarning: find_elements_by_css_selector is deprecated. Please use find_elements(by=By.CSS_SELECTOR, value=css_selector) instead\n",
      "  review = driver.find_elements_by_css_selector('.tmpl_itemlist>div>ul>li>div.cunit_info>div.cunit_app')\n"
     ]
    },
    {
     "name": "stdout",
     "output_type": "stream",
     "text": [
      "800\n"
     ]
    },
    {
     "name": "stderr",
     "output_type": "stream",
     "text": [
      "/var/folders/wy/34j5dqtj7rq_z64p1mtz2f_w0000gn/T/ipykernel_7622/1899987413.py:70: DeprecationWarning: find_element_by_css_selector is deprecated. Please use find_element(by=By.CSS_SELECTOR, value=css_selector) instead\n",
      "  next_page = driver.find_element_by_css_selector('a.btn_next.on')\n",
      "/var/folders/wy/34j5dqtj7rq_z64p1mtz2f_w0000gn/T/ipykernel_7622/1899987413.py:89: DeprecationWarning: find_elements_by_css_selector is deprecated. Please use find_elements(by=By.CSS_SELECTOR, value=css_selector) instead\n",
      "  review = driver.find_elements_by_css_selector('.tmpl_itemlist>div>ul>li>div.cunit_info>div.cunit_app')\n",
      "/var/folders/wy/34j5dqtj7rq_z64p1mtz2f_w0000gn/T/ipykernel_7622/1899987413.py:102: TqdmDeprecationWarning: This function will be removed in tqdm==5.0.0\n",
      "Please use `tqdm.notebook.tqdm` instead of `tqdm.tqdm_notebook`\n",
      "  for i in tqdm_notebook(range(3,12)): #11페이지부터 20페이지까지\n"
     ]
    },
    {
     "data": {
      "application/vnd.jupyter.widget-view+json": {
       "model_id": "08002de9bfef4a44b7b5df9b5f5e0c88",
       "version_major": 2,
       "version_minor": 0
      },
      "text/plain": [
       "  0%|          | 0/9 [00:00<?, ?it/s]"
      ]
     },
     "metadata": {},
     "output_type": "display_data"
    },
    {
     "name": "stderr",
     "output_type": "stream",
     "text": [
      "/var/folders/wy/34j5dqtj7rq_z64p1mtz2f_w0000gn/T/ipykernel_7622/1899987413.py:103: DeprecationWarning: find_element_by_xpath is deprecated. Please use find_element(by=By.XPATH, value=xpath) instead\n",
      "  next_btn = driver.find_element_by_xpath(f'//*[@id=\"area_itemlist\"]/div[2]/a[{i}]')\n",
      "/var/folders/wy/34j5dqtj7rq_z64p1mtz2f_w0000gn/T/ipykernel_7622/1899987413.py:122: DeprecationWarning: find_elements_by_css_selector is deprecated. Please use find_elements(by=By.CSS_SELECTOR, value=css_selector) instead\n",
      "  review = driver.find_elements_by_css_selector('.tmpl_itemlist>div>ul>li>div.cunit_info>div.cunit_app')\n"
     ]
    },
    {
     "data": {
      "application/vnd.jupyter.widget-view+json": {
       "model_id": "19b0a19627bf410b97fce1792f9af3f0",
       "version_major": 2,
       "version_minor": 0
      },
      "text/plain": [
       "  0%|          | 0/9 [00:00<?, ?it/s]"
      ]
     },
     "metadata": {},
     "output_type": "display_data"
    },
    {
     "data": {
      "application/vnd.jupyter.widget-view+json": {
       "model_id": "38e20b9b87f0493f9d6b371bb6b1afca",
       "version_major": 2,
       "version_minor": 0
      },
      "text/plain": [
       "  0%|          | 0/9 [00:00<?, ?it/s]"
      ]
     },
     "metadata": {},
     "output_type": "display_data"
    },
    {
     "data": {
      "application/vnd.jupyter.widget-view+json": {
       "model_id": "fc751710593a496db0caf3140a2b11ba",
       "version_major": 2,
       "version_minor": 0
      },
      "text/plain": [
       "  0%|          | 0/10 [00:00<?, ?it/s]"
      ]
     },
     "metadata": {},
     "output_type": "display_data"
    },
    {
     "name": "stdout",
     "output_type": "stream",
     "text": [
      "4000\n"
     ]
    },
    {
     "data": {
      "application/vnd.jupyter.widget-view+json": {
       "model_id": "9a567093899c4fadb26865b43f147050",
       "version_major": 2,
       "version_minor": 0
      },
      "text/plain": [
       "  0%|          | 0/9 [00:00<?, ?it/s]"
      ]
     },
     "metadata": {},
     "output_type": "display_data"
    },
    {
     "data": {
      "application/vnd.jupyter.widget-view+json": {
       "model_id": "ecb38d10caa345f0be3d1150d2643082",
       "version_major": 2,
       "version_minor": 0
      },
      "text/plain": [
       "  0%|          | 0/9 [00:00<?, ?it/s]"
      ]
     },
     "metadata": {},
     "output_type": "display_data"
    },
    {
     "data": {
      "application/vnd.jupyter.widget-view+json": {
       "model_id": "cd1f7feedce24f71b0e72d886e088f75",
       "version_major": 2,
       "version_minor": 0
      },
      "text/plain": [
       "  0%|          | 0/9 [00:00<?, ?it/s]"
      ]
     },
     "metadata": {},
     "output_type": "display_data"
    },
    {
     "data": {
      "application/vnd.jupyter.widget-view+json": {
       "model_id": "b56ecb49f369413bba190f5f139e2ca9",
       "version_major": 2,
       "version_minor": 0
      },
      "text/plain": [
       "  0%|          | 0/10 [00:00<?, ?it/s]"
      ]
     },
     "metadata": {},
     "output_type": "display_data"
    },
    {
     "name": "stdout",
     "output_type": "stream",
     "text": [
      "7200\n"
     ]
    },
    {
     "data": {
      "application/vnd.jupyter.widget-view+json": {
       "model_id": "f91a48fa9e8f4c63b4782215e0cf9990",
       "version_major": 2,
       "version_minor": 0
      },
      "text/plain": [
       "  0%|          | 0/9 [00:00<?, ?it/s]"
      ]
     },
     "metadata": {},
     "output_type": "display_data"
    },
    {
     "data": {
      "application/vnd.jupyter.widget-view+json": {
       "model_id": "d7ae4bf062154a71b6810d1421215f49",
       "version_major": 2,
       "version_minor": 0
      },
      "text/plain": [
       "  0%|          | 0/9 [00:00<?, ?it/s]"
      ]
     },
     "metadata": {},
     "output_type": "display_data"
    },
    {
     "data": {
      "application/vnd.jupyter.widget-view+json": {
       "model_id": "7aab9479030d46f59d227dfbf6dbf20a",
       "version_major": 2,
       "version_minor": 0
      },
      "text/plain": [
       "  0%|          | 0/9 [00:00<?, ?it/s]"
      ]
     },
     "metadata": {},
     "output_type": "display_data"
    },
    {
     "data": {
      "application/vnd.jupyter.widget-view+json": {
       "model_id": "efb8a98ce23a44e1abeed0e9cd5dbea7",
       "version_major": 2,
       "version_minor": 0
      },
      "text/plain": [
       "  0%|          | 0/10 [00:00<?, ?it/s]"
      ]
     },
     "metadata": {},
     "output_type": "display_data"
    },
    {
     "name": "stdout",
     "output_type": "stream",
     "text": [
      "10400\n"
     ]
    },
    {
     "data": {
      "application/vnd.jupyter.widget-view+json": {
       "model_id": "8cca03af72f24bd28ed7573d17a229a0",
       "version_major": 2,
       "version_minor": 0
      },
      "text/plain": [
       "  0%|          | 0/9 [00:00<?, ?it/s]"
      ]
     },
     "metadata": {},
     "output_type": "display_data"
    },
    {
     "data": {
      "application/vnd.jupyter.widget-view+json": {
       "model_id": "5d7940561e4245a1b60a5e1302077c49",
       "version_major": 2,
       "version_minor": 0
      },
      "text/plain": [
       "  0%|          | 0/9 [00:00<?, ?it/s]"
      ]
     },
     "metadata": {},
     "output_type": "display_data"
    },
    {
     "data": {
      "application/vnd.jupyter.widget-view+json": {
       "model_id": "b0531e8890414ca8acd4781d60427bb4",
       "version_major": 2,
       "version_minor": 0
      },
      "text/plain": [
       "  0%|          | 0/9 [00:00<?, ?it/s]"
      ]
     },
     "metadata": {},
     "output_type": "display_data"
    },
    {
     "data": {
      "application/vnd.jupyter.widget-view+json": {
       "model_id": "f20a5b0339754da3ad7ad7943a311b01",
       "version_major": 2,
       "version_minor": 0
      },
      "text/plain": [
       "  0%|          | 0/10 [00:00<?, ?it/s]"
      ]
     },
     "metadata": {},
     "output_type": "display_data"
    },
    {
     "name": "stdout",
     "output_type": "stream",
     "text": [
      "13600\n"
     ]
    },
    {
     "data": {
      "application/vnd.jupyter.widget-view+json": {
       "model_id": "e4f2a84f246c49ca98758ec756f7dab5",
       "version_major": 2,
       "version_minor": 0
      },
      "text/plain": [
       "  0%|          | 0/9 [00:00<?, ?it/s]"
      ]
     },
     "metadata": {},
     "output_type": "display_data"
    },
    {
     "data": {
      "application/vnd.jupyter.widget-view+json": {
       "model_id": "e2e50d23481c478caf0a2a933e90b236",
       "version_major": 2,
       "version_minor": 0
      },
      "text/plain": [
       "  0%|          | 0/9 [00:00<?, ?it/s]"
      ]
     },
     "metadata": {},
     "output_type": "display_data"
    },
    {
     "data": {
      "application/vnd.jupyter.widget-view+json": {
       "model_id": "e85f3a0979314241b4208cd3b53ed711",
       "version_major": 2,
       "version_minor": 0
      },
      "text/plain": [
       "  0%|          | 0/9 [00:00<?, ?it/s]"
      ]
     },
     "metadata": {},
     "output_type": "display_data"
    },
    {
     "data": {
      "application/vnd.jupyter.widget-view+json": {
       "model_id": "dc23af5c1c7f4b8abe85bd4169551bea",
       "version_major": 2,
       "version_minor": 0
      },
      "text/plain": [
       "  0%|          | 0/10 [00:00<?, ?it/s]"
      ]
     },
     "metadata": {},
     "output_type": "display_data"
    },
    {
     "name": "stdout",
     "output_type": "stream",
     "text": [
      "16800\n"
     ]
    },
    {
     "data": {
      "application/vnd.jupyter.widget-view+json": {
       "model_id": "6f045735c39845138e4890f7d5b68849",
       "version_major": 2,
       "version_minor": 0
      },
      "text/plain": [
       "  0%|          | 0/9 [00:00<?, ?it/s]"
      ]
     },
     "metadata": {},
     "output_type": "display_data"
    },
    {
     "data": {
      "application/vnd.jupyter.widget-view+json": {
       "model_id": "d379e30cca024a4fb8e2c72f2be2e969",
       "version_major": 2,
       "version_minor": 0
      },
      "text/plain": [
       "  0%|          | 0/9 [00:00<?, ?it/s]"
      ]
     },
     "metadata": {},
     "output_type": "display_data"
    },
    {
     "data": {
      "application/vnd.jupyter.widget-view+json": {
       "model_id": "a3cd0e604c4b4c949ce41a262a2479f8",
       "version_major": 2,
       "version_minor": 0
      },
      "text/plain": [
       "  0%|          | 0/9 [00:00<?, ?it/s]"
      ]
     },
     "metadata": {},
     "output_type": "display_data"
    },
    {
     "data": {
      "application/vnd.jupyter.widget-view+json": {
       "model_id": "9343cbdaf2744b879f91750ba9ca1849",
       "version_major": 2,
       "version_minor": 0
      },
      "text/plain": [
       "  0%|          | 0/10 [00:00<?, ?it/s]"
      ]
     },
     "metadata": {},
     "output_type": "display_data"
    },
    {
     "name": "stdout",
     "output_type": "stream",
     "text": [
      "20000\n"
     ]
    },
    {
     "data": {
      "application/vnd.jupyter.widget-view+json": {
       "model_id": "6e9f582d3cc14786a81bc33a9b39d6bd",
       "version_major": 2,
       "version_minor": 0
      },
      "text/plain": [
       "  0%|          | 0/9 [00:00<?, ?it/s]"
      ]
     },
     "metadata": {},
     "output_type": "display_data"
    },
    {
     "data": {
      "application/vnd.jupyter.widget-view+json": {
       "model_id": "0ab3577f4a8d4278927c49d146207c38",
       "version_major": 2,
       "version_minor": 0
      },
      "text/plain": [
       "  0%|          | 0/9 [00:00<?, ?it/s]"
      ]
     },
     "metadata": {},
     "output_type": "display_data"
    },
    {
     "data": {
      "application/vnd.jupyter.widget-view+json": {
       "model_id": "e0a74439765e4115b06a13ec6201d6f3",
       "version_major": 2,
       "version_minor": 0
      },
      "text/plain": [
       "  0%|          | 0/9 [00:00<?, ?it/s]"
      ]
     },
     "metadata": {},
     "output_type": "display_data"
    },
    {
     "data": {
      "application/vnd.jupyter.widget-view+json": {
       "model_id": "a2cdb05bae9a4c1798d984ea8082673f",
       "version_major": 2,
       "version_minor": 0
      },
      "text/plain": [
       "  0%|          | 0/10 [00:00<?, ?it/s]"
      ]
     },
     "metadata": {},
     "output_type": "display_data"
    },
    {
     "name": "stdout",
     "output_type": "stream",
     "text": [
      "23200\n"
     ]
    },
    {
     "data": {
      "application/vnd.jupyter.widget-view+json": {
       "model_id": "dbddc824e2b74092ad00a8639cd401f7",
       "version_major": 2,
       "version_minor": 0
      },
      "text/plain": [
       "  0%|          | 0/9 [00:00<?, ?it/s]"
      ]
     },
     "metadata": {},
     "output_type": "display_data"
    },
    {
     "data": {
      "application/vnd.jupyter.widget-view+json": {
       "model_id": "08f35f2dfab3425bacafb58584709ce2",
       "version_major": 2,
       "version_minor": 0
      },
      "text/plain": [
       "  0%|          | 0/9 [00:00<?, ?it/s]"
      ]
     },
     "metadata": {},
     "output_type": "display_data"
    },
    {
     "data": {
      "application/vnd.jupyter.widget-view+json": {
       "model_id": "17b6922f6c464ec3b44aaf9e2d214161",
       "version_major": 2,
       "version_minor": 0
      },
      "text/plain": [
       "  0%|          | 0/9 [00:00<?, ?it/s]"
      ]
     },
     "metadata": {},
     "output_type": "display_data"
    },
    {
     "data": {
      "application/vnd.jupyter.widget-view+json": {
       "model_id": "dd633786b0264372a1b372d2cdbbb360",
       "version_major": 2,
       "version_minor": 0
      },
      "text/plain": [
       "  0%|          | 0/10 [00:00<?, ?it/s]"
      ]
     },
     "metadata": {},
     "output_type": "display_data"
    },
    {
     "name": "stdout",
     "output_type": "stream",
     "text": [
      "26400\n"
     ]
    },
    {
     "data": {
      "application/vnd.jupyter.widget-view+json": {
       "model_id": "97374cc2f5c949fe92d93f6f72c5b9a8",
       "version_major": 2,
       "version_minor": 0
      },
      "text/plain": [
       "  0%|          | 0/9 [00:00<?, ?it/s]"
      ]
     },
     "metadata": {},
     "output_type": "display_data"
    },
    {
     "data": {
      "application/vnd.jupyter.widget-view+json": {
       "model_id": "b631bc3ee23a4d2b91c56c4034e4ab3d",
       "version_major": 2,
       "version_minor": 0
      },
      "text/plain": [
       "  0%|          | 0/9 [00:00<?, ?it/s]"
      ]
     },
     "metadata": {},
     "output_type": "display_data"
    },
    {
     "data": {
      "application/vnd.jupyter.widget-view+json": {
       "model_id": "c04fb0faf2f945cd9a1b9010f5bd0421",
       "version_major": 2,
       "version_minor": 0
      },
      "text/plain": [
       "  0%|          | 0/9 [00:00<?, ?it/s]"
      ]
     },
     "metadata": {},
     "output_type": "display_data"
    },
    {
     "data": {
      "application/vnd.jupyter.widget-view+json": {
       "model_id": "0aaee17292d4404184debb64bc878cf7",
       "version_major": 2,
       "version_minor": 0
      },
      "text/plain": [
       "  0%|          | 0/10 [00:00<?, ?it/s]"
      ]
     },
     "metadata": {},
     "output_type": "display_data"
    },
    {
     "name": "stdout",
     "output_type": "stream",
     "text": [
      "29600\n"
     ]
    },
    {
     "data": {
      "application/vnd.jupyter.widget-view+json": {
       "model_id": "1c4e6218431c4409861654f287130982",
       "version_major": 2,
       "version_minor": 0
      },
      "text/plain": [
       "  0%|          | 0/9 [00:00<?, ?it/s]"
      ]
     },
     "metadata": {},
     "output_type": "display_data"
    },
    {
     "data": {
      "application/vnd.jupyter.widget-view+json": {
       "model_id": "fed58f25b00846d79c2610bec60e6995",
       "version_major": 2,
       "version_minor": 0
      },
      "text/plain": [
       "  0%|          | 0/9 [00:00<?, ?it/s]"
      ]
     },
     "metadata": {},
     "output_type": "display_data"
    },
    {
     "data": {
      "application/vnd.jupyter.widget-view+json": {
       "model_id": "5e6b330777aa44e4b78988419cde7686",
       "version_major": 2,
       "version_minor": 0
      },
      "text/plain": [
       "  0%|          | 0/9 [00:00<?, ?it/s]"
      ]
     },
     "metadata": {},
     "output_type": "display_data"
    },
    {
     "data": {
      "application/vnd.jupyter.widget-view+json": {
       "model_id": "e6d6b73e472d4d9ebab2ca38516e465d",
       "version_major": 2,
       "version_minor": 0
      },
      "text/plain": [
       "  0%|          | 0/10 [00:00<?, ?it/s]"
      ]
     },
     "metadata": {},
     "output_type": "display_data"
    },
    {
     "name": "stdout",
     "output_type": "stream",
     "text": [
      "32800\n"
     ]
    },
    {
     "data": {
      "application/vnd.jupyter.widget-view+json": {
       "model_id": "32942f1a8c2d4f438b99f5a21c7674ce",
       "version_major": 2,
       "version_minor": 0
      },
      "text/plain": [
       "  0%|          | 0/9 [00:00<?, ?it/s]"
      ]
     },
     "metadata": {},
     "output_type": "display_data"
    },
    {
     "data": {
      "application/vnd.jupyter.widget-view+json": {
       "model_id": "6910aad1b911497c8486ecc4d1e192e4",
       "version_major": 2,
       "version_minor": 0
      },
      "text/plain": [
       "  0%|          | 0/9 [00:00<?, ?it/s]"
      ]
     },
     "metadata": {},
     "output_type": "display_data"
    },
    {
     "data": {
      "application/vnd.jupyter.widget-view+json": {
       "model_id": "aec759a74468476789274c2a6f62324a",
       "version_major": 2,
       "version_minor": 0
      },
      "text/plain": [
       "  0%|          | 0/9 [00:00<?, ?it/s]"
      ]
     },
     "metadata": {},
     "output_type": "display_data"
    },
    {
     "data": {
      "application/vnd.jupyter.widget-view+json": {
       "model_id": "2764b7bd02cb4f7a85efd6860d93172c",
       "version_major": 2,
       "version_minor": 0
      },
      "text/plain": [
       "  0%|          | 0/10 [00:00<?, ?it/s]"
      ]
     },
     "metadata": {},
     "output_type": "display_data"
    },
    {
     "name": "stdout",
     "output_type": "stream",
     "text": [
      "36000\n"
     ]
    },
    {
     "data": {
      "application/vnd.jupyter.widget-view+json": {
       "model_id": "b988d3c453754d06bf72e08b0368c06e",
       "version_major": 2,
       "version_minor": 0
      },
      "text/plain": [
       "  0%|          | 0/9 [00:00<?, ?it/s]"
      ]
     },
     "metadata": {},
     "output_type": "display_data"
    },
    {
     "data": {
      "application/vnd.jupyter.widget-view+json": {
       "model_id": "c2174cbc86cd4ec7bc53a865aa95e6b0",
       "version_major": 2,
       "version_minor": 0
      },
      "text/plain": [
       "  0%|          | 0/9 [00:00<?, ?it/s]"
      ]
     },
     "metadata": {},
     "output_type": "display_data"
    },
    {
     "data": {
      "application/vnd.jupyter.widget-view+json": {
       "model_id": "f5e2b4ab4ca14669afdc9640b4d527e8",
       "version_major": 2,
       "version_minor": 0
      },
      "text/plain": [
       "  0%|          | 0/9 [00:00<?, ?it/s]"
      ]
     },
     "metadata": {},
     "output_type": "display_data"
    },
    {
     "data": {
      "application/vnd.jupyter.widget-view+json": {
       "model_id": "0ecd5e98b2b64ea6a1b8d392b6a06d50",
       "version_major": 2,
       "version_minor": 0
      },
      "text/plain": [
       "  0%|          | 0/10 [00:00<?, ?it/s]"
      ]
     },
     "metadata": {},
     "output_type": "display_data"
    },
    {
     "name": "stdout",
     "output_type": "stream",
     "text": [
      "39200\n"
     ]
    },
    {
     "data": {
      "application/vnd.jupyter.widget-view+json": {
       "model_id": "3d2f4a5b27c64f9780fe46fc9871b3aa",
       "version_major": 2,
       "version_minor": 0
      },
      "text/plain": [
       "  0%|          | 0/9 [00:00<?, ?it/s]"
      ]
     },
     "metadata": {},
     "output_type": "display_data"
    },
    {
     "data": {
      "application/vnd.jupyter.widget-view+json": {
       "model_id": "ec7d2083578145f98c3fc84bc1632943",
       "version_major": 2,
       "version_minor": 0
      },
      "text/plain": [
       "  0%|          | 0/9 [00:00<?, ?it/s]"
      ]
     },
     "metadata": {},
     "output_type": "display_data"
    },
    {
     "data": {
      "application/vnd.jupyter.widget-view+json": {
       "model_id": "56399aca802e45d7bda318f9e08108ab",
       "version_major": 2,
       "version_minor": 0
      },
      "text/plain": [
       "  0%|          | 0/9 [00:00<?, ?it/s]"
      ]
     },
     "metadata": {},
     "output_type": "display_data"
    },
    {
     "data": {
      "application/vnd.jupyter.widget-view+json": {
       "model_id": "9004101b5fa144c584ca0f5a22372425",
       "version_major": 2,
       "version_minor": 0
      },
      "text/plain": [
       "  0%|          | 0/10 [00:00<?, ?it/s]"
      ]
     },
     "metadata": {},
     "output_type": "display_data"
    },
    {
     "name": "stdout",
     "output_type": "stream",
     "text": [
      "42400\n"
     ]
    },
    {
     "data": {
      "application/vnd.jupyter.widget-view+json": {
       "model_id": "cfe23a917b66419d8108c46d285dca37",
       "version_major": 2,
       "version_minor": 0
      },
      "text/plain": [
       "  0%|          | 0/9 [00:00<?, ?it/s]"
      ]
     },
     "metadata": {},
     "output_type": "display_data"
    },
    {
     "data": {
      "application/vnd.jupyter.widget-view+json": {
       "model_id": "9a7eb08c024f42319b5e5caf7ac065e5",
       "version_major": 2,
       "version_minor": 0
      },
      "text/plain": [
       "  0%|          | 0/9 [00:00<?, ?it/s]"
      ]
     },
     "metadata": {},
     "output_type": "display_data"
    },
    {
     "data": {
      "application/vnd.jupyter.widget-view+json": {
       "model_id": "64e60ecfebe94f3490547c910dc08c22",
       "version_major": 2,
       "version_minor": 0
      },
      "text/plain": [
       "  0%|          | 0/9 [00:00<?, ?it/s]"
      ]
     },
     "metadata": {},
     "output_type": "display_data"
    },
    {
     "data": {
      "application/vnd.jupyter.widget-view+json": {
       "model_id": "015a92ca03b34551a9970b5eca5c58c0",
       "version_major": 2,
       "version_minor": 0
      },
      "text/plain": [
       "  0%|          | 0/10 [00:00<?, ?it/s]"
      ]
     },
     "metadata": {},
     "output_type": "display_data"
    },
    {
     "name": "stdout",
     "output_type": "stream",
     "text": [
      "45600\n"
     ]
    },
    {
     "data": {
      "application/vnd.jupyter.widget-view+json": {
       "model_id": "7d15404cb7b34ab5ab45bbd7669e9c9e",
       "version_major": 2,
       "version_minor": 0
      },
      "text/plain": [
       "  0%|          | 0/9 [00:00<?, ?it/s]"
      ]
     },
     "metadata": {},
     "output_type": "display_data"
    },
    {
     "data": {
      "application/vnd.jupyter.widget-view+json": {
       "model_id": "dcb2cf322546474dbf36cc1b4b243cc1",
       "version_major": 2,
       "version_minor": 0
      },
      "text/plain": [
       "  0%|          | 0/9 [00:00<?, ?it/s]"
      ]
     },
     "metadata": {},
     "output_type": "display_data"
    },
    {
     "data": {
      "application/vnd.jupyter.widget-view+json": {
       "model_id": "77ad7fac958b4ec793b64d44fdb6989f",
       "version_major": 2,
       "version_minor": 0
      },
      "text/plain": [
       "  0%|          | 0/9 [00:00<?, ?it/s]"
      ]
     },
     "metadata": {},
     "output_type": "display_data"
    },
    {
     "data": {
      "application/vnd.jupyter.widget-view+json": {
       "model_id": "17074504b70e4a33bae1956087f2fbd4",
       "version_major": 2,
       "version_minor": 0
      },
      "text/plain": [
       "  0%|          | 0/10 [00:00<?, ?it/s]"
      ]
     },
     "metadata": {},
     "output_type": "display_data"
    },
    {
     "name": "stdout",
     "output_type": "stream",
     "text": [
      "48800\n"
     ]
    },
    {
     "data": {
      "application/vnd.jupyter.widget-view+json": {
       "model_id": "55c1c879ee654e6288b4fe54639e3e8c",
       "version_major": 2,
       "version_minor": 0
      },
      "text/plain": [
       "  0%|          | 0/9 [00:00<?, ?it/s]"
      ]
     },
     "metadata": {},
     "output_type": "display_data"
    },
    {
     "data": {
      "application/vnd.jupyter.widget-view+json": {
       "model_id": "61fc05b12da349b8845b565bcd215f7a",
       "version_major": 2,
       "version_minor": 0
      },
      "text/plain": [
       "  0%|          | 0/9 [00:00<?, ?it/s]"
      ]
     },
     "metadata": {},
     "output_type": "display_data"
    },
    {
     "name": "stdout",
     "output_type": "stream",
     "text": [
      "Traceback (most recent call last):\n",
      "  File \"/var/folders/wy/34j5dqtj7rq_z64p1mtz2f_w0000gn/T/ipykernel_7622/1899987413.py\", line 103, in <cell line: 17>\n",
      "    next_btn = driver.find_element_by_xpath(f'//*[@id=\"area_itemlist\"]/div[2]/a[{i}]')\n",
      "  File \"/Users/jiyoung/opt/anaconda3/lib/python3.9/site-packages/selenium/webdriver/remote/webdriver.py\", line 526, in find_element_by_xpath\n",
      "    return self.find_element(by=By.XPATH, value=xpath)\n",
      "  File \"/Users/jiyoung/opt/anaconda3/lib/python3.9/site-packages/selenium/webdriver/remote/webdriver.py\", line 1251, in find_element\n",
      "    return self.execute(Command.FIND_ELEMENT, {\n",
      "  File \"/Users/jiyoung/opt/anaconda3/lib/python3.9/site-packages/selenium/webdriver/remote/webdriver.py\", line 430, in execute\n",
      "    self.error_handler.check_response(response)\n",
      "  File \"/Users/jiyoung/opt/anaconda3/lib/python3.9/site-packages/selenium/webdriver/remote/errorhandler.py\", line 247, in check_response\n",
      "    raise exception_class(message, screen, stacktrace)\n",
      "selenium.common.exceptions.NoSuchElementException: Message: no such element: Unable to locate element: {\"method\":\"xpath\",\"selector\":\"//*[@id=\"area_itemlist\"]/div[2]/a[11]\"}\n",
      "  (Session info: chrome=105.0.5195.102)\n",
      "Stacktrace:\n",
      "0   chromedriver                        0x0000000102ef2ae0 chromedriver + 3828448\n",
      "1   chromedriver                        0x0000000102e87f1c chromedriver + 3391260\n",
      "2   chromedriver                        0x0000000102b80fcc chromedriver + 217036\n",
      "3   chromedriver                        0x0000000102bb0b7c chromedriver + 412540\n",
      "4   chromedriver                        0x0000000102bd9b2c chromedriver + 580396\n",
      "5   chromedriver                        0x0000000102ba6010 chromedriver + 368656\n",
      "6   chromedriver                        0x0000000102ec839c chromedriver + 3654556\n",
      "7   chromedriver                        0x0000000102ecbc4c chromedriver + 3669068\n",
      "8   chromedriver                        0x0000000102ed014c chromedriver + 3686732\n",
      "9   chromedriver                        0x0000000102ecc654 chromedriver + 3671636\n",
      "10  chromedriver                        0x0000000102eaab40 chromedriver + 3533632\n",
      "11  chromedriver                        0x0000000102ee4414 chromedriver + 3769364\n",
      "12  chromedriver                        0x0000000102ee4578 chromedriver + 3769720\n",
      "13  chromedriver                        0x0000000102ef90f0 chromedriver + 3854576\n",
      "14  libsystem_pthread.dylib             0x000000019764426c _pthread_start + 148\n",
      "15  libsystem_pthread.dylib             0x000000019763f08c thread_start + 8\n",
      "\n",
      "\n"
     ]
    },
    {
     "ename": "IndexError",
     "evalue": "list index out of range",
     "output_type": "error",
     "traceback": [
      "\u001b[0;31m---------------------------------------------------------------------------\u001b[0m",
      "\u001b[0;31mIndexError\u001b[0m                                Traceback (most recent call last)",
      "Input \u001b[0;32mIn [4]\u001b[0m, in \u001b[0;36m<cell line: 184>\u001b[0;34m()\u001b[0m\n\u001b[1;32m    179\u001b[0m \u001b[38;5;66;03m#cur.execute(\"drop table product;\")\u001b[39;00m\n\u001b[1;32m    180\u001b[0m \u001b[38;5;66;03m#conn.commit()\u001b[39;00m\n\u001b[1;32m    181\u001b[0m \u001b[38;5;66;03m#cur.execute(\"CREATE TABLE product (prodCode INT NOT NULL AUTO_INCREDENT primary key, martName VARCHAR(50), categoryName VARCHAR(255), prodName VARCHAR(255), prodPrice INT, prodImage VARCHAR(255), link VARCHAR(255), prodStar float, prodReview INT);\")\u001b[39;00m\n\u001b[1;32m    182\u001b[0m \u001b[38;5;66;03m#conn.commit()\u001b[39;00m\n\u001b[1;32m    184\u001b[0m \u001b[38;5;28;01mfor\u001b[39;00m i \u001b[38;5;129;01min\u001b[39;00m \u001b[38;5;28mrange\u001b[39m(\u001b[38;5;241m48000\u001b[39m):\n\u001b[0;32m--> 185\u001b[0m     cur\u001b[38;5;241m.\u001b[39mexecute(\u001b[38;5;124mf\u001b[39m\u001b[38;5;124m\"\u001b[39m\u001b[38;5;124minsert into emart values(null,\u001b[39m\u001b[38;5;124m'\u001b[39m\u001b[38;5;132;01m{\u001b[39;00mmart_name[i]\u001b[38;5;132;01m}\u001b[39;00m\u001b[38;5;124m'\u001b[39m\u001b[38;5;124m,\u001b[39m\u001b[38;5;124m'\u001b[39m\u001b[38;5;132;01m{\u001b[39;00mcategory_list[i]\u001b[38;5;132;01m}\u001b[39;00m\u001b[38;5;124m'\u001b[39m\u001b[38;5;124m,\u001b[39m\u001b[38;5;124m'\u001b[39m\u001b[38;5;132;01m{\u001b[39;00mname_list[i]\u001b[38;5;132;01m}\u001b[39;00m\u001b[38;5;124m'\u001b[39m\u001b[38;5;124m,\u001b[39m\u001b[38;5;132;01m{\u001b[39;00mprice_int[i]\u001b[38;5;132;01m}\u001b[39;00m\u001b[38;5;124m,\u001b[39m\u001b[38;5;124m'\u001b[39m\u001b[38;5;132;01m{\u001b[39;00mimage_list[i]\u001b[38;5;132;01m}\u001b[39;00m\u001b[38;5;124m'\u001b[39m\u001b[38;5;124m,\u001b[39m\u001b[38;5;124m'\u001b[39m\u001b[38;5;132;01m{\u001b[39;00mlink_list[i]\u001b[38;5;132;01m}\u001b[39;00m\u001b[38;5;124m'\u001b[39m\u001b[38;5;124m,\u001b[39m\u001b[38;5;132;01m{\u001b[39;00mstar_float[i]\u001b[38;5;132;01m}\u001b[39;00m\u001b[38;5;124m,\u001b[39m\u001b[38;5;132;01m{\u001b[39;00mreviewCnt_int[i]\u001b[38;5;132;01m}\u001b[39;00m\u001b[38;5;124m);\u001b[39m\u001b[38;5;124m\"\u001b[39m)\n\u001b[1;32m    186\u001b[0m     conn\u001b[38;5;241m.\u001b[39mcommit()\n\u001b[1;32m    187\u001b[0m conn\u001b[38;5;241m.\u001b[39mclose()\n",
      "\u001b[0;31mIndexError\u001b[0m: list index out of range"
     ]
    }
   ],
   "source": [
    "driver.switch_to.window(driver.window_handles[0]) #로그인 창 전환때문에 다시 기존창으로\n",
    "driver.get('https://emart.ssg.com/category/main.ssg?dispCtgId=6000095739')\n",
    "time.sleep(1)\n",
    "\n",
    "name_list = []\n",
    "image_list = []\n",
    "price_list = []\n",
    "review_list = []\n",
    "link_list = []\n",
    "star_list = []\n",
    "reviewCnt_list = []\n",
    "category_list = []\n",
    "star_float = []\n",
    "reviewCnt_int = []\n",
    "price_int = []\n",
    "mart_name = []\n",
    "for i in tqdm_notebook(range(1,16)): \n",
    "    a = 1 #넥스트페이지 범위설정\n",
    "    category_button = driver.find_element_by_css_selector('.em_nav_all>.emctg_open')\n",
    "    category_button.click()\n",
    "    driver.implicitly_wait(10)\n",
    "    time.sleep(1)\n",
    "    \n",
    "    next_category = driver.find_element_by_css_selector(f'#e_gnb > div > div.em_nav_all > div > ul:nth-child(2) > li:nth-child({i}) > a')\n",
    "    driver.implicitly_wait(10)\n",
    "    time.sleep(1)\n",
    "    \n",
    "    next_category.click()\n",
    "    driver.implicitly_wait(10)\n",
    "    time.sleep(2)\n",
    "      \n",
    "    for j in tqdm_notebook(range(1,11)): #1-10페이지까지\n",
    "        next_btn = driver.find_element_by_xpath(f'//*[@id=\"area_itemlist\"]/div[2]/a[{j}]')\n",
    "        next_btn.click()\n",
    "        driver.implicitly_wait(10)\n",
    "        time.sleep(1.5)\n",
    "\n",
    "        html = driver.page_source\n",
    "        soup = BeautifulSoup(html, 'html.parser')\n",
    "\n",
    "        category = soup.select('.notranslate.clickable')[0].text.replace('\\n','').replace('\\t','')\n",
    "\n",
    "        name = soup.select('.tmpl_itemlist>div>ul>li>div>div>.title>a>em.tx_ko')\n",
    "        for i in name:\n",
    "            name_list.append(i.text)\n",
    "            mart_name.append(\"이마트\")\n",
    "            category_list.append(category)\n",
    "        image = soup.select('.tmpl_itemlist>div>ul>li>div>.thmb>a>img.i1')\n",
    "        for i in image:\n",
    "            image_list.append(\"http:\" + i['src'])  \n",
    "        price = soup.select('.tmpl_itemlist>div>ul>li>div>div>div.opt_price>.ssg_price')\n",
    "        for i in price:\n",
    "            price_list.append(i.text)    \n",
    "        review = driver.find_elements_by_css_selector('.tmpl_itemlist>div>ul>li>div.cunit_info>div.cunit_app')\n",
    "        for i in review:\n",
    "            if len(i.text) == 0:\n",
    "                review_list.append([\"0\",\"0\"])\n",
    "            else:\n",
    "                 review_list.append(i.text.replace(\"\\n\",\"\")[3:].split('점'))    \n",
    "        link = soup.select('.tmpl_itemlist>div>ul>li>div>div.thmb>a')\n",
    "        for i in link:\n",
    "            if \"https://earlymorning\" in i['href']:\n",
    "                link_list.append(i['href'])\n",
    "            elif \"https://earlymorning\" not in i['href']:\n",
    "                link_list.append(\"https://emart.ssg.com/\" + i['href'])\n",
    "    print(len(link_list))\n",
    "    while (a <= 3):\n",
    "        a += 1\n",
    "        try:\n",
    "            next_page = driver.find_element_by_css_selector('a.btn_next.on')\n",
    "            next_page.click()\n",
    "            driver.implicitly_wait(10)\n",
    "            time.sleep(2)\n",
    "\n",
    "            html = driver.page_source\n",
    "            soup = BeautifulSoup(html, 'html.parser')\n",
    "\n",
    "            category = soup.select('.notranslate.clickable')[0].text.replace('\\n','').replace('\\t','')\n",
    "            name = soup.select('.tmpl_itemlist>div>ul>li>div>div>.title>a>em.tx_ko')\n",
    "            for i in name:\n",
    "                name_list.append(i.text)   \n",
    "                category_list.append(category)\n",
    "            image = soup.select('.tmpl_itemlist>div>ul>li>div>.thmb>a>img.i1')\n",
    "            for i in image:\n",
    "                image_list.append(\"http:\" + i['src']) \n",
    "            price = soup.select('.tmpl_itemlist>div>ul>li>div>div>div.opt_price>.ssg_price')\n",
    "            for i in price:\n",
    "                price_list.append(i.text)    \n",
    "            review = driver.find_elements_by_css_selector('.tmpl_itemlist>div>ul>li>div.cunit_info>div.cunit_app')\n",
    "            for i in review:\n",
    "                if len(i.text) == 0:\n",
    "                    review_list.append([\"0\",\"0\"])\n",
    "                else:\n",
    "                    review_list.append(i.text.replace(\"\\n\",\"\")[3:].split('점'))    \n",
    "            link = soup.select('.tmpl_itemlist>div>ul>li>div>div.thmb>a')\n",
    "            for i in link:\n",
    "                if \"https://earlymorning\" in i['href']:\n",
    "                    link_list.append(i['href'])\n",
    "                elif \"https://earlymorning\" not in i['href']:\n",
    "                    link_list.append(\"https://emart.ssg.com/\" + i['href'])   \n",
    "        \n",
    "            for i in tqdm_notebook(range(3,12)): #11페이지부터 20페이지까지\n",
    "                next_btn = driver.find_element_by_xpath(f'//*[@id=\"area_itemlist\"]/div[2]/a[{i}]')\n",
    "                next_btn.click()\n",
    "                driver.implicitly_wait(10)\n",
    "                time.sleep(2)  \n",
    "\n",
    "                html = driver.page_source\n",
    "                soup = BeautifulSoup(html, 'html.parser')\n",
    "\n",
    "                category = soup.select('.notranslate.clickable')[0].text.replace('\\n','').replace('\\t','')\n",
    "                name = soup.select('.tmpl_itemlist>div>ul>li>div>div>.title>a>em.tx_ko')\n",
    "                for i in name:\n",
    "                    name_list.append(i.text)     \n",
    "                    category_list.append(category)\n",
    "                image = soup.select('.tmpl_itemlist>div>ul>li>div>.thmb>a>img.i1')\n",
    "                for i in image:\n",
    "                    image_list.append(\"http:\" + i['src'])  \n",
    "                price = soup.select('.tmpl_itemlist>div>ul>li>div>div>div.opt_price>.ssg_price')\n",
    "                for i in price:\n",
    "                    price_list.append(i.text)    \n",
    "                review = driver.find_elements_by_css_selector('.tmpl_itemlist>div>ul>li>div.cunit_info>div.cunit_app')\n",
    "                for i in review:\n",
    "                    if len(i.text) == 0:\n",
    "                        review_list.append([\"0\",\"0\"])\n",
    "                    else:\n",
    "                        review_list.append(i.text.replace(\"\\n\",\"\")[3:].split('점'))         \n",
    "                link = soup.select('.tmpl_itemlist>div>ul>li>div>div.thmb>a')\n",
    "                for i in link:\n",
    "                    if \"https://earlymorning\" in i['href']:\n",
    "                        link_list.append(i['href'])\n",
    "                    elif \"https://earlymorning\" not in i['href']:\n",
    "                        link_list.append(\"https://emart.ssg.com/\" + i['href'])\n",
    "        except Exception as e:\n",
    "            print(traceback.format_exc())\n",
    "            a = 4\n",
    "            break\n",
    "\n",
    "for j in review_list:\n",
    "    star_list.append(j[0])\n",
    "    reviewCnt_list.append(j[1].replace(\"(\",\"\").replace(\"개)\",\"\"))      \n",
    "for i in price_list:\n",
    "    price_int.append(int(i.replace(\",\",\"\")))\n",
    "for i in star_list:\n",
    "    star_float.append(float(i))\n",
    "for i in reviewCnt_list:\n",
    "    reviewCnt_int.append(int(i.replace(\",\",\"\"))) \n",
    "   \n",
    "driver.quit() #크롤링 다끝나면 크롬종료\n",
    "for i in range(len(category_list)):\n",
    "    if category_list[i] == '정육/계란류':\n",
    "        category_list[i] = '정육/계란'\n",
    "    if category_list[i] == '수산/건해산':\n",
    "        category_list[i] = '수산/건해산물'        \n",
    "    if category_list[i] == '밀키트/간편식':\n",
    "        category_list[i] = '냉장/냉동/밀키트'    \n",
    "    if category_list[i] == '우유/유제품':\n",
    "        category_list[i] = '우유/유제품/베이커리'\n",
    "    if category_list[i] == '김치/반찬/델리':\n",
    "        category_list[i] = '김치/반찬'\n",
    "    if category_list[i] == '장류/양념/가루/오일':\n",
    "        category_list[i] = '장류/양념/오일'\n",
    "    if category_list[i] == '과자/간식':\n",
    "        category_list[i] = '과자/간식/시리얼/떡'  \n",
    "    if category_list[i] == '생수/음료/주류':\n",
    "        category_list[i] = '생수/음료/커피/차/주류' \n",
    "    if category_list[i] == '커피/원두/차':\n",
    "        category_list[i] = '생수/음료/커피/차/주류'    \n",
    "    if category_list[i] == '면류/통조림':\n",
    "        category_list[i] = '라면/통조림/즉석식품'        \n",
    "    if category_list[i] == '베이커리/잼':\n",
    "        category_list[i] = '우유/유제품/베이커리' \n",
    "\n",
    "\n",
    "# 크롤링 다 끝나면 MySQL에 넣어주기    \n",
    "conn = pymysql.connect(host = 'project-db-stu.ddns.net', port = 3307, user = 'seocho_0830_1', password = 'smhrd1', db = 'seocho_0830_1', charset = 'utf8')\n",
    "cur = conn.cursor(pymysql.cursors.DictCursor)\n",
    "\n",
    "#cur.execute(\"drop table product;\")\n",
    "#conn.commit()\n",
    "#cur.execute(\"CREATE TABLE product (prodCode INT NOT NULL AUTO_INCREDENT primary key, martName VARCHAR(50), categoryName VARCHAR(255), prodName VARCHAR(255), prodPrice INT, prodImage VARCHAR(255), link VARCHAR(255), prodStar float, prodReview INT);\")\n",
    "#conn.commit()\n",
    "\n",
    "for i in tqdm_notebook(range(48000)):\n",
    "    cur.execute(f\"insert into emart values(null,'{mart_name[i]}','{category_list[i]}','{name_list[i]}',{price_int[i]},'{image_list[i]}','{link_list[i]}',{star_float[i]},{reviewCnt_int[i]});\")\n",
    "    conn.commit()\n",
    "conn.close()"
   ]
  },
  {
   "cell_type": "code",
   "execution_count": 5,
   "id": "017508db",
   "metadata": {},
   "outputs": [
    {
     "data": {
      "text/plain": [
       "(50291, 50291, 50291, 50291, 50291, 50291, 50291)"
      ]
     },
     "execution_count": 5,
     "metadata": {},
     "output_type": "execute_result"
    }
   ],
   "source": [
    "len(name_list), len(image_list), len(price_int), len(star_float), len(reviewCnt_int), len(link_list), len(category_list)"
   ]
  },
  {
   "cell_type": "code",
   "execution_count": null,
   "id": "de39659e",
   "metadata": {},
   "outputs": [],
   "source": []
  },
  {
   "cell_type": "code",
   "execution_count": null,
   "id": "13e5d8cd",
   "metadata": {},
   "outputs": [],
   "source": []
  },
  {
   "cell_type": "code",
   "execution_count": null,
   "id": "b1fc2f76",
   "metadata": {},
   "outputs": [],
   "source": []
  },
  {
   "cell_type": "markdown",
   "id": "d83af620",
   "metadata": {},
   "source": [
    "### MySQL 연결"
   ]
  },
  {
   "cell_type": "code",
   "execution_count": 259,
   "id": "5b98f221",
   "metadata": {
    "scrolled": true
   },
   "outputs": [],
   "source": [
    "# mySQL 연결\n",
    "import pymysql\n",
    "\n",
    "conn = pymysql.connect(host = '127.0.0.1', user = 'root', password = '1234', db = 'emart', charset = 'utf8')\n",
    "cur = conn.cursor(pymysql.cursors.DictCursor)\n",
    "                   \n",
    "for i in range(50000):\n",
    "    cur.execute(f\"insert into product values({i},'{category_list[i]}','{name_list[i]}',{price_int[i]},'{image_list[i]}','{link_list[i]}',{star_float[i]},{reviewCnt_int[i]});\")\n",
    "    conn.commit()\n",
    "conn.close()"
   ]
  },
  {
   "cell_type": "code",
   "execution_count": 258,
   "id": "0f02553b",
   "metadata": {
    "collapsed": true
   },
   "outputs": [
    {
     "ename": "InterfaceError",
     "evalue": "(0, '')",
     "output_type": "error",
     "traceback": [
      "\u001b[1;31m---------------------------------------------------------------------------\u001b[0m",
      "\u001b[1;31mInterfaceError\u001b[0m                            Traceback (most recent call last)",
      "Input \u001b[1;32mIn [258]\u001b[0m, in \u001b[0;36m<cell line: 1>\u001b[1;34m()\u001b[0m\n\u001b[1;32m----> 1\u001b[0m \u001b[43mcur\u001b[49m\u001b[38;5;241;43m.\u001b[39;49m\u001b[43mexecute\u001b[49m\u001b[43m(\u001b[49m\u001b[38;5;124;43m\"\u001b[39;49m\u001b[38;5;124;43mdrop table product;\u001b[39;49m\u001b[38;5;124;43m\"\u001b[39;49m\u001b[43m)\u001b[49m\n\u001b[0;32m      2\u001b[0m conn\u001b[38;5;241m.\u001b[39mcommit()\n\u001b[0;32m      3\u001b[0m cur\u001b[38;5;241m.\u001b[39mexecute(\u001b[38;5;124m\"\u001b[39m\u001b[38;5;124mCREATE TABLE product (prodCode INT NOT NULL, prodName VARCHAR(255), prodImage VARCHAR(255), prodPrice int, prodStar float, prodReview int, link VARCHAR(255), categoryName VARCHAR(255));\u001b[39m\u001b[38;5;124m\"\u001b[39m)\n",
      "File \u001b[1;32m~\\anaconda3\\lib\\site-packages\\pymysql\\cursors.py:148\u001b[0m, in \u001b[0;36mCursor.execute\u001b[1;34m(self, query, args)\u001b[0m\n\u001b[0;32m    144\u001b[0m     \u001b[38;5;28;01mpass\u001b[39;00m\n\u001b[0;32m    146\u001b[0m query \u001b[38;5;241m=\u001b[39m \u001b[38;5;28mself\u001b[39m\u001b[38;5;241m.\u001b[39mmogrify(query, args)\n\u001b[1;32m--> 148\u001b[0m result \u001b[38;5;241m=\u001b[39m \u001b[38;5;28;43mself\u001b[39;49m\u001b[38;5;241;43m.\u001b[39;49m\u001b[43m_query\u001b[49m\u001b[43m(\u001b[49m\u001b[43mquery\u001b[49m\u001b[43m)\u001b[49m\n\u001b[0;32m    149\u001b[0m \u001b[38;5;28mself\u001b[39m\u001b[38;5;241m.\u001b[39m_executed \u001b[38;5;241m=\u001b[39m query\n\u001b[0;32m    150\u001b[0m \u001b[38;5;28;01mreturn\u001b[39;00m result\n",
      "File \u001b[1;32m~\\anaconda3\\lib\\site-packages\\pymysql\\cursors.py:310\u001b[0m, in \u001b[0;36mCursor._query\u001b[1;34m(self, q)\u001b[0m\n\u001b[0;32m    308\u001b[0m \u001b[38;5;28mself\u001b[39m\u001b[38;5;241m.\u001b[39m_last_executed \u001b[38;5;241m=\u001b[39m q\n\u001b[0;32m    309\u001b[0m \u001b[38;5;28mself\u001b[39m\u001b[38;5;241m.\u001b[39m_clear_result()\n\u001b[1;32m--> 310\u001b[0m \u001b[43mconn\u001b[49m\u001b[38;5;241;43m.\u001b[39;49m\u001b[43mquery\u001b[49m\u001b[43m(\u001b[49m\u001b[43mq\u001b[49m\u001b[43m)\u001b[49m\n\u001b[0;32m    311\u001b[0m \u001b[38;5;28mself\u001b[39m\u001b[38;5;241m.\u001b[39m_do_get_result()\n\u001b[0;32m    312\u001b[0m \u001b[38;5;28;01mreturn\u001b[39;00m \u001b[38;5;28mself\u001b[39m\u001b[38;5;241m.\u001b[39mrowcount\n",
      "File \u001b[1;32m~\\anaconda3\\lib\\site-packages\\pymysql\\connections.py:547\u001b[0m, in \u001b[0;36mConnection.query\u001b[1;34m(self, sql, unbuffered)\u001b[0m\n\u001b[0;32m    545\u001b[0m \u001b[38;5;28;01mif\u001b[39;00m \u001b[38;5;28misinstance\u001b[39m(sql, \u001b[38;5;28mstr\u001b[39m):\n\u001b[0;32m    546\u001b[0m     sql \u001b[38;5;241m=\u001b[39m sql\u001b[38;5;241m.\u001b[39mencode(\u001b[38;5;28mself\u001b[39m\u001b[38;5;241m.\u001b[39mencoding, \u001b[38;5;124m\"\u001b[39m\u001b[38;5;124msurrogateescape\u001b[39m\u001b[38;5;124m\"\u001b[39m)\n\u001b[1;32m--> 547\u001b[0m \u001b[38;5;28;43mself\u001b[39;49m\u001b[38;5;241;43m.\u001b[39;49m\u001b[43m_execute_command\u001b[49m\u001b[43m(\u001b[49m\u001b[43mCOMMAND\u001b[49m\u001b[38;5;241;43m.\u001b[39;49m\u001b[43mCOM_QUERY\u001b[49m\u001b[43m,\u001b[49m\u001b[43m \u001b[49m\u001b[43msql\u001b[49m\u001b[43m)\u001b[49m\n\u001b[0;32m    548\u001b[0m \u001b[38;5;28mself\u001b[39m\u001b[38;5;241m.\u001b[39m_affected_rows \u001b[38;5;241m=\u001b[39m \u001b[38;5;28mself\u001b[39m\u001b[38;5;241m.\u001b[39m_read_query_result(unbuffered\u001b[38;5;241m=\u001b[39munbuffered)\n\u001b[0;32m    549\u001b[0m \u001b[38;5;28;01mreturn\u001b[39;00m \u001b[38;5;28mself\u001b[39m\u001b[38;5;241m.\u001b[39m_affected_rows\n",
      "File \u001b[1;32m~\\anaconda3\\lib\\site-packages\\pymysql\\connections.py:793\u001b[0m, in \u001b[0;36mConnection._execute_command\u001b[1;34m(self, command, sql)\u001b[0m\n\u001b[0;32m    788\u001b[0m \u001b[38;5;124;03m\"\"\"\u001b[39;00m\n\u001b[0;32m    789\u001b[0m \u001b[38;5;124;03m:raise InterfaceError: If the connection is closed.\u001b[39;00m\n\u001b[0;32m    790\u001b[0m \u001b[38;5;124;03m:raise ValueError: If no username was specified.\u001b[39;00m\n\u001b[0;32m    791\u001b[0m \u001b[38;5;124;03m\"\"\"\u001b[39;00m\n\u001b[0;32m    792\u001b[0m \u001b[38;5;28;01mif\u001b[39;00m \u001b[38;5;129;01mnot\u001b[39;00m \u001b[38;5;28mself\u001b[39m\u001b[38;5;241m.\u001b[39m_sock:\n\u001b[1;32m--> 793\u001b[0m     \u001b[38;5;28;01mraise\u001b[39;00m err\u001b[38;5;241m.\u001b[39mInterfaceError(\u001b[38;5;241m0\u001b[39m, \u001b[38;5;124m\"\u001b[39m\u001b[38;5;124m\"\u001b[39m)\n\u001b[0;32m    795\u001b[0m \u001b[38;5;66;03m# If the last query was unbuffered, make sure it finishes before\u001b[39;00m\n\u001b[0;32m    796\u001b[0m \u001b[38;5;66;03m# sending new commands\u001b[39;00m\n\u001b[0;32m    797\u001b[0m \u001b[38;5;28;01mif\u001b[39;00m \u001b[38;5;28mself\u001b[39m\u001b[38;5;241m.\u001b[39m_result \u001b[38;5;129;01mis\u001b[39;00m \u001b[38;5;129;01mnot\u001b[39;00m \u001b[38;5;28;01mNone\u001b[39;00m:\n",
      "\u001b[1;31mInterfaceError\u001b[0m: (0, '')"
     ]
    }
   ],
   "source": [
    "# 실시간이어야하니까\n",
    "cur.execute(\"drop table product;\")\n",
    "conn.commit()\n",
    "cur.execute(\"CREATE TABLE product (prodCode INT NOT NULL, prodName VARCHAR(255), prodImage VARCHAR(255), prodPrice int, prodStar float, prodReview int, link VARCHAR(255), categoryName VARCHAR(255));\")\n",
    "conn.commit()\n",
    "\n",
    "for i in range(50000):\n",
    "    cur.execute(f\"insert into product values({i},'{category_list[i]}','{name_list[i]}',{price_int[i]},'{image_list[i]}','{link_list[i]}',{star_float[i]},{reviewCnt_int[i]});\")\n",
    "    conn.commit()\n",
    "conn.close()"
   ]
  },
  {
   "cell_type": "code",
   "execution_count": null,
   "id": "e49d4452",
   "metadata": {},
   "outputs": [],
   "source": []
  },
  {
   "cell_type": "code",
   "execution_count": null,
   "id": "1c29098b",
   "metadata": {},
   "outputs": [],
   "source": []
  },
  {
   "cell_type": "code",
   "execution_count": null,
   "id": "78ad26a2",
   "metadata": {},
   "outputs": [],
   "source": []
  },
  {
   "cell_type": "code",
   "execution_count": null,
   "id": "26ce43e6",
   "metadata": {},
   "outputs": [],
   "source": []
  },
  {
   "cell_type": "code",
   "execution_count": null,
   "id": "fed89b98",
   "metadata": {},
   "outputs": [],
   "source": []
  },
  {
   "cell_type": "code",
   "execution_count": null,
   "id": "7235b319",
   "metadata": {},
   "outputs": [],
   "source": []
  },
  {
   "cell_type": "code",
   "execution_count": null,
   "id": "65e0e177",
   "metadata": {},
   "outputs": [],
   "source": []
  },
  {
   "cell_type": "code",
   "execution_count": null,
   "id": "d11d296a",
   "metadata": {},
   "outputs": [],
   "source": []
  },
  {
   "cell_type": "markdown",
   "id": "b2332a1f",
   "metadata": {},
   "source": [
    "### 엑셀 저장"
   ]
  },
  {
   "cell_type": "code",
   "execution_count": 6,
   "id": "6a800af7",
   "metadata": {},
   "outputs": [
    {
     "data": {
      "text/html": [
       "<div>\n",
       "<style scoped>\n",
       "    .dataframe tbody tr th:only-of-type {\n",
       "        vertical-align: middle;\n",
       "    }\n",
       "\n",
       "    .dataframe tbody tr th {\n",
       "        vertical-align: top;\n",
       "    }\n",
       "\n",
       "    .dataframe thead th {\n",
       "        text-align: right;\n",
       "    }\n",
       "</style>\n",
       "<table border=\"1\" class=\"dataframe\">\n",
       "  <thead>\n",
       "    <tr style=\"text-align: right;\">\n",
       "      <th></th>\n",
       "      <th>카테고리별</th>\n",
       "      <th>상품명</th>\n",
       "      <th>가격</th>\n",
       "      <th>이미지</th>\n",
       "      <th>별점</th>\n",
       "      <th>리뷰</th>\n",
       "      <th>링크</th>\n",
       "    </tr>\n",
       "  </thead>\n",
       "  <tbody>\n",
       "    <tr>\n",
       "      <th>0</th>\n",
       "      <td>과일</td>\n",
       "      <td>[국내산] 생생대추 (80g)</td>\n",
       "      <td>5,980</td>\n",
       "      <td>http://sitem.ssgcdn.com/19/91/01/item/00000080...</td>\n",
       "      <td>4.91</td>\n",
       "      <td>658</td>\n",
       "      <td>https://emart.ssg.com//item/itemView.ssg?itemI...</td>\n",
       "    </tr>\n",
       "    <tr>\n",
       "      <th>1</th>\n",
       "      <td>과일</td>\n",
       "      <td>[미국산] 냉동 타트체리 500g</td>\n",
       "      <td>8,280</td>\n",
       "      <td>http://sitem.ssgcdn.com/83/01/08/item/10002890...</td>\n",
       "      <td>4.67</td>\n",
       "      <td>61</td>\n",
       "      <td>https://emart.ssg.com//item/itemView.ssg?itemI...</td>\n",
       "    </tr>\n",
       "    <tr>\n",
       "      <th>2</th>\n",
       "      <td>과일</td>\n",
       "      <td>[국내산] 냉동오디 500g</td>\n",
       "      <td>11,300</td>\n",
       "      <td>http://sitem.ssgcdn.com/76/88/15/item/10000051...</td>\n",
       "      <td>4.78</td>\n",
       "      <td>433</td>\n",
       "      <td>https://emart.ssg.com//item/itemView.ssg?itemI...</td>\n",
       "    </tr>\n",
       "    <tr>\n",
       "      <th>3</th>\n",
       "      <td>과일</td>\n",
       "      <td>[국산과일 먹는날 최대 ~28%할인] 캠벨포도/샤인머스켓/복숭아/메론</td>\n",
       "      <td>16,800</td>\n",
       "      <td>http://sitem.ssgcdn.com/81/03/43/item/10002874...</td>\n",
       "      <td>4.6</td>\n",
       "      <td>30,394</td>\n",
       "      <td>https://emart.ssg.com//item/dealItemView.ssg?i...</td>\n",
       "    </tr>\n",
       "    <tr>\n",
       "      <th>4</th>\n",
       "      <td>과일</td>\n",
       "      <td>제철과일 행사 [무화과/햇사과外]</td>\n",
       "      <td>11,900</td>\n",
       "      <td>http://sitem.ssgcdn.com/73/00/48/item/10001894...</td>\n",
       "      <td>4.69</td>\n",
       "      <td>45,119</td>\n",
       "      <td>https://emart.ssg.com//item/dealItemView.ssg?i...</td>\n",
       "    </tr>\n",
       "    <tr>\n",
       "      <th>...</th>\n",
       "      <td>...</td>\n",
       "      <td>...</td>\n",
       "      <td>...</td>\n",
       "      <td>...</td>\n",
       "      <td>...</td>\n",
       "      <td>...</td>\n",
       "      <td>...</td>\n",
       "    </tr>\n",
       "    <tr>\n",
       "      <th>50286</th>\n",
       "      <td>친환경/유기농</td>\n",
       "      <td>[누림]천년숨결 홍삼정 240g</td>\n",
       "      <td>184,000</td>\n",
       "      <td>http://sitem.ssgcdn.com/24/04/63/item/10000056...</td>\n",
       "      <td>0</td>\n",
       "      <td>0</td>\n",
       "      <td>https://emart.ssg.com//item/itemView.ssg?itemI...</td>\n",
       "    </tr>\n",
       "    <tr>\n",
       "      <th>50287</th>\n",
       "      <td>친환경/유기농</td>\n",
       "      <td>오스트리아 샬크뮐레 유기농 홍화씨 오일 250ml X 6병 수입완제품</td>\n",
       "      <td>229,800</td>\n",
       "      <td>http://sitem.ssgcdn.com/85/92/39/item/10000343...</td>\n",
       "      <td>0</td>\n",
       "      <td>0</td>\n",
       "      <td>https://emart.ssg.com//item/itemView.ssg?itemI...</td>\n",
       "    </tr>\n",
       "    <tr>\n",
       "      <th>50288</th>\n",
       "      <td>친환경/유기농</td>\n",
       "      <td>하와이 유기농 노니주스 100% 착즙원액 X 6병 (세달분)  수입완제품</td>\n",
       "      <td>270,000</td>\n",
       "      <td>http://sitem.ssgcdn.com/61/11/55/item/10000325...</td>\n",
       "      <td>0</td>\n",
       "      <td>0</td>\n",
       "      <td>https://emart.ssg.com//item/itemView.ssg?itemI...</td>\n",
       "    </tr>\n",
       "    <tr>\n",
       "      <th>50289</th>\n",
       "      <td>친환경/유기농</td>\n",
       "      <td>[22/08/26일 순차출고][냉장] 설성목장 무행생제 한우 명품 1호세트 2kg</td>\n",
       "      <td>300,000</td>\n",
       "      <td>http://sitem.ssgcdn.com/95/70/44/item/10000354...</td>\n",
       "      <td>5</td>\n",
       "      <td>3</td>\n",
       "      <td>https://emart.ssg.com//item/itemView.ssg?itemI...</td>\n",
       "    </tr>\n",
       "    <tr>\n",
       "      <th>50290</th>\n",
       "      <td>친환경/유기농</td>\n",
       "      <td>오스트리아 샬크뮐레 유기농 홍화씨 오일 250ml X 12병 수입완제품</td>\n",
       "      <td>457,200</td>\n",
       "      <td>http://sitem.ssgcdn.com/98/93/39/item/10000343...</td>\n",
       "      <td>0</td>\n",
       "      <td>0</td>\n",
       "      <td>https://emart.ssg.com//item/itemView.ssg?itemI...</td>\n",
       "    </tr>\n",
       "  </tbody>\n",
       "</table>\n",
       "<p>50291 rows × 7 columns</p>\n",
       "</div>"
      ],
      "text/plain": [
       "         카테고리별                                            상품명       가격  \\\n",
       "0           과일                               [국내산] 생생대추 (80g)    5,980   \n",
       "1           과일                             [미국산] 냉동 타트체리 500g    8,280   \n",
       "2           과일                                [국내산] 냉동오디 500g   11,300   \n",
       "3           과일         [국산과일 먹는날 최대 ~28%할인] 캠벨포도/샤인머스켓/복숭아/메론   16,800   \n",
       "4           과일                             제철과일 행사 [무화과/햇사과外]   11,900   \n",
       "...        ...                                            ...      ...   \n",
       "50286  친환경/유기농                              [누림]천년숨결 홍삼정 240g  184,000   \n",
       "50287  친환경/유기농         오스트리아 샬크뮐레 유기농 홍화씨 오일 250ml X 6병 수입완제품  229,800   \n",
       "50288  친환경/유기농       하와이 유기농 노니주스 100% 착즙원액 X 6병 (세달분)  수입완제품  270,000   \n",
       "50289  친환경/유기농  [22/08/26일 순차출고][냉장] 설성목장 무행생제 한우 명품 1호세트 2kg  300,000   \n",
       "50290  친환경/유기농        오스트리아 샬크뮐레 유기농 홍화씨 오일 250ml X 12병 수입완제품  457,200   \n",
       "\n",
       "                                                     이미지    별점      리뷰  \\\n",
       "0      http://sitem.ssgcdn.com/19/91/01/item/00000080...  4.91     658   \n",
       "1      http://sitem.ssgcdn.com/83/01/08/item/10002890...  4.67      61   \n",
       "2      http://sitem.ssgcdn.com/76/88/15/item/10000051...  4.78     433   \n",
       "3      http://sitem.ssgcdn.com/81/03/43/item/10002874...   4.6  30,394   \n",
       "4      http://sitem.ssgcdn.com/73/00/48/item/10001894...  4.69  45,119   \n",
       "...                                                  ...   ...     ...   \n",
       "50286  http://sitem.ssgcdn.com/24/04/63/item/10000056...     0       0   \n",
       "50287  http://sitem.ssgcdn.com/85/92/39/item/10000343...     0       0   \n",
       "50288  http://sitem.ssgcdn.com/61/11/55/item/10000325...     0       0   \n",
       "50289  http://sitem.ssgcdn.com/95/70/44/item/10000354...     5       3   \n",
       "50290  http://sitem.ssgcdn.com/98/93/39/item/10000343...     0       0   \n",
       "\n",
       "                                                      링크  \n",
       "0      https://emart.ssg.com//item/itemView.ssg?itemI...  \n",
       "1      https://emart.ssg.com//item/itemView.ssg?itemI...  \n",
       "2      https://emart.ssg.com//item/itemView.ssg?itemI...  \n",
       "3      https://emart.ssg.com//item/dealItemView.ssg?i...  \n",
       "4      https://emart.ssg.com//item/dealItemView.ssg?i...  \n",
       "...                                                  ...  \n",
       "50286  https://emart.ssg.com//item/itemView.ssg?itemI...  \n",
       "50287  https://emart.ssg.com//item/itemView.ssg?itemI...  \n",
       "50288  https://emart.ssg.com//item/itemView.ssg?itemI...  \n",
       "50289  https://emart.ssg.com//item/itemView.ssg?itemI...  \n",
       "50290  https://emart.ssg.com//item/itemView.ssg?itemI...  \n",
       "\n",
       "[50291 rows x 7 columns]"
      ]
     },
     "execution_count": 6,
     "metadata": {},
     "output_type": "execute_result"
    }
   ],
   "source": [
    "# 데이터프레임\n",
    "data = {'카테고리별':category_list, '상품명':name_list, '가격':price_list, '이미지':image_list, '별점':star_list, '리뷰':reviewCnt_list, '링크':link_list}\n",
    "df = pd.DataFrame(data)\n",
    "df.columns = ['카테고리별','상품명','가격','이미지','별점','리뷰','링크']\n",
    "df"
   ]
  },
  {
   "cell_type": "code",
   "execution_count": 7,
   "id": "843bee62",
   "metadata": {
    "scrolled": true
   },
   "outputs": [
    {
     "name": "stderr",
     "output_type": "stream",
     "text": [
      "/var/folders/wy/34j5dqtj7rq_z64p1mtz2f_w0000gn/T/ipykernel_805/1792230818.py:2: FutureWarning: Use of **kwargs is deprecated, use engine_kwargs instead.\n",
      "  data = pd.ExcelWriter(r'emart.xlsx', engine='xlsxwriter',options={'strings_to_urls': False})\n"
     ]
    }
   ],
   "source": [
    "# 엑셀로 저장\n",
    "data = pd.ExcelWriter(r'emart.xlsx', engine='xlsxwriter',options={'strings_to_urls': False})\n",
    "df.to_excel(data)\n",
    "data.close()"
   ]
  },
  {
   "cell_type": "code",
   "execution_count": null,
   "id": "1c728304",
   "metadata": {},
   "outputs": [],
   "source": []
  },
  {
   "cell_type": "code",
   "execution_count": null,
   "id": "6d8cce0c",
   "metadata": {},
   "outputs": [],
   "source": []
  },
  {
   "cell_type": "code",
   "execution_count": null,
   "id": "329f2031",
   "metadata": {},
   "outputs": [],
   "source": []
  },
  {
   "cell_type": "markdown",
   "id": "b933c86a",
   "metadata": {},
   "source": [
    "### 리뷰를 평점/리뷰개수로 나누기"
   ]
  },
  {
   "cell_type": "code",
   "execution_count": 230,
   "id": "b0a5611c",
   "metadata": {
    "scrolled": true
   },
   "outputs": [
    {
     "name": "stdout",
     "output_type": "stream",
     "text": [
      "80 80\n"
     ]
    }
   ],
   "source": [
    "# 리뷰를 평점,리뷰개수로 나누기\n",
    "html = driver.page_source\n",
    "soup = BeautifulSoup(html, 'html.parser')\n",
    "\n",
    "review_list = []\n",
    "star_list = []\n",
    "reviewCnt_list = []\n",
    "\n",
    "review = driver.find_elements_by_css_selector('.tmpl_itemlist>div>ul>li>div.cunit_info>div.cunit_app')\n",
    "for i in review:\n",
    "    if len(i.text) == 0:\n",
    "        review_list.append([\"0\",\"0\"])\n",
    "    else:\n",
    "         review_list.append(i.text.replace(\"\\n\",\"\")[3:].split('점'))    \n",
    "\n",
    "for j in review_list:\n",
    "    star_list.append(j[0])\n",
    "    reviewCnt_list.append(j[1].replace(\"(\",\"\").replace(\"개)\",\"\"))\n",
    "    \n",
    "print(len(star_list), len(reviewCnt_list))\n"
   ]
  },
  {
   "cell_type": "markdown",
   "id": "3d32a73e",
   "metadata": {},
   "source": [
    "### 문자열 -> 정수형 변환"
   ]
  },
  {
   "cell_type": "code",
   "execution_count": 241,
   "id": "b5937cba",
   "metadata": {},
   "outputs": [],
   "source": [
    "# 문자열을 정수형으로 바꿔주기\n",
    "star_float = []\n",
    "reviewCnt_int = []\n",
    "price_int = []\n",
    "\n",
    "for i in price_list:\n",
    "    price_int.append(int(i.replace(\",\",\"\")))\n",
    "for i in star_list:\n",
    "    star_float.append(float(i))\n",
    "for i in reviewCnt_list:\n",
    "    reviewCnt_int.append(int(i.replace(\",\",\"\")))   "
   ]
  }
 ],
 "metadata": {
  "kernelspec": {
   "display_name": "Python 3 (ipykernel)",
   "language": "python",
   "name": "python3"
  },
  "language_info": {
   "codemirror_mode": {
    "name": "ipython",
    "version": 3
   },
   "file_extension": ".py",
   "mimetype": "text/x-python",
   "name": "python",
   "nbconvert_exporter": "python",
   "pygments_lexer": "ipython3",
   "version": "3.9.13"
  }
 },
 "nbformat": 4,
 "nbformat_minor": 5
}
