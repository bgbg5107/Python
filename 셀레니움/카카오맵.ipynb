{
 "cells": [
  {
   "cell_type": "code",
   "execution_count": 1,
   "id": "a8e9ad68",
   "metadata": {},
   "outputs": [],
   "source": [
    "from selenium import webdriver\n",
    "from webdriver_manager.chrome import ChromeDriverManager\n",
    "from bs4 import BeautifulSoup as bs\n",
    "from selenium.webdriver.common.keys import Keys\n",
    "import time"
   ]
  },
  {
   "cell_type": "code",
   "execution_count": 2,
   "id": "69e0230d",
   "metadata": {},
   "outputs": [
    {
     "name": "stderr",
     "output_type": "stream",
     "text": [
      "/var/folders/wy/34j5dqtj7rq_z64p1mtz2f_w0000gn/T/ipykernel_1012/137142995.py:1: DeprecationWarning: executable_path has been deprecated, please pass in a Service object\n",
      "  driver = webdriver.Chrome('/Users/jiyoung/chromedriver')\n"
     ]
    }
   ],
   "source": [
    "driver = webdriver.Chrome('/Users/jiyoung/chromedriver')"
   ]
  },
  {
   "cell_type": "code",
   "execution_count": 3,
   "id": "e0a2f2b0",
   "metadata": {},
   "outputs": [],
   "source": [
    "url = 'https://map.kakao.com/'\n",
    "driver.get(url)"
   ]
  },
  {
   "cell_type": "markdown",
   "id": "3bfffafb",
   "metadata": {},
   "source": [
    "### 검색창 찾기"
   ]
  },
  {
   "cell_type": "code",
   "execution_count": 4,
   "id": "c5343a4c",
   "metadata": {},
   "outputs": [
    {
     "name": "stderr",
     "output_type": "stream",
     "text": [
      "/var/folders/wy/34j5dqtj7rq_z64p1mtz2f_w0000gn/T/ipykernel_1012/517098807.py:1: DeprecationWarning: find_element_by_* commands are deprecated. Please use find_element() instead\n",
      "  search = driver.find_element_by_id('search\\.keyword\\.query')\n"
     ]
    }
   ],
   "source": [
    "search = driver.find_element_by_id('search\\.keyword\\.query')"
   ]
  },
  {
   "cell_type": "code",
   "execution_count": 5,
   "id": "e4004d95",
   "metadata": {},
   "outputs": [],
   "source": [
    "search.send_keys('맛집')"
   ]
  },
  {
   "cell_type": "code",
   "execution_count": 6,
   "id": "51426241",
   "metadata": {},
   "outputs": [],
   "source": [
    "search.send_keys(Keys.ENTER)"
   ]
  },
  {
   "cell_type": "code",
   "execution_count": 7,
   "id": "aa21a53a",
   "metadata": {},
   "outputs": [
    {
     "name": "stderr",
     "output_type": "stream",
     "text": [
      "/var/folders/wy/34j5dqtj7rq_z64p1mtz2f_w0000gn/T/ipykernel_1012/1162927224.py:1: DeprecationWarning: find_element_by_css_selector is deprecated. Please use find_element(by=By.CSS_SELECTOR, value=css_selector) instead\n",
      "  body = driver.find_element_by_css_selector('body')\n"
     ]
    }
   ],
   "source": [
    "body = driver.find_element_by_css_selector('body')\n",
    "time.sleep(1)\n",
    "body.send_keys(Keys.END)\n",
    "time.sleep(1)"
   ]
  },
  {
   "cell_type": "code",
   "execution_count": 8,
   "id": "950c600d",
   "metadata": {
    "scrolled": true
   },
   "outputs": [
    {
     "name": "stderr",
     "output_type": "stream",
     "text": [
      "/var/folders/wy/34j5dqtj7rq_z64p1mtz2f_w0000gn/T/ipykernel_1012/4064402694.py:1: DeprecationWarning: find_element_by_css_selector is deprecated. Please use find_element(by=By.CSS_SELECTOR, value=css_selector) instead\n",
      "  place = driver.find_element_by_css_selector('#info\\.search\\.place\\.more')\n"
     ]
    },
    {
     "ename": "ElementClickInterceptedException",
     "evalue": "Message: element click intercepted: Element <a id=\"info.search.place.more\" class=\"more\" href=\"#\">...</a> is not clickable at point (195, 549). Other element would receive the click: <div id=\"dimmedLayer\" class=\"DimmedLayer\" style=\"background-color: transparent;\"></div>\n  (Session info: chrome=104.0.5112.101)\nStacktrace:\n0   chromedriver                        0x0000000102c62ae0 chromedriver + 3828448\n1   chromedriver                        0x0000000102bf7f1c chromedriver + 3391260\n2   chromedriver                        0x00000001028f0fcc chromedriver + 217036\n3   chromedriver                        0x0000000102926df4 chromedriver + 437748\n4   chromedriver                        0x000000010292501c chromedriver + 430108\n5   chromedriver                        0x0000000102922e38 chromedriver + 421432\n6   chromedriver                        0x0000000102921dc4 chromedriver + 417220\n7   chromedriver                        0x000000010291791c chromedriver + 375068\n8   chromedriver                        0x0000000102917308 chromedriver + 373512\n9   chromedriver                        0x0000000102949b2c chromedriver + 580396\n10  chromedriver                        0x0000000102916010 chromedriver + 368656\n11  chromedriver                        0x0000000102c3839c chromedriver + 3654556\n12  chromedriver                        0x0000000102c3bc4c chromedriver + 3669068\n13  chromedriver                        0x0000000102c4014c chromedriver + 3686732\n14  chromedriver                        0x0000000102c3c654 chromedriver + 3671636\n15  chromedriver                        0x0000000102c1ab40 chromedriver + 3533632\n16  chromedriver                        0x0000000102c54414 chromedriver + 3769364\n17  chromedriver                        0x0000000102c54578 chromedriver + 3769720\n18  chromedriver                        0x0000000102c690f0 chromedriver + 3854576\n19  libsystem_pthread.dylib             0x000000019b2bc26c _pthread_start + 148\n20  libsystem_pthread.dylib             0x000000019b2b708c thread_start + 8\n",
     "output_type": "error",
     "traceback": [
      "\u001b[0;31m---------------------------------------------------------------------------\u001b[0m",
      "\u001b[0;31mElementClickInterceptedException\u001b[0m          Traceback (most recent call last)",
      "Input \u001b[0;32mIn [8]\u001b[0m, in \u001b[0;36m<cell line: 2>\u001b[0;34m()\u001b[0m\n\u001b[1;32m      1\u001b[0m place \u001b[38;5;241m=\u001b[39m driver\u001b[38;5;241m.\u001b[39mfind_element_by_css_selector(\u001b[38;5;124m'\u001b[39m\u001b[38;5;124m#info\u001b[39m\u001b[38;5;124m\\\u001b[39m\u001b[38;5;124m.search\u001b[39m\u001b[38;5;124m\\\u001b[39m\u001b[38;5;124m.place\u001b[39m\u001b[38;5;124m\\\u001b[39m\u001b[38;5;124m.more\u001b[39m\u001b[38;5;124m'\u001b[39m)\n\u001b[0;32m----> 2\u001b[0m \u001b[43mplace\u001b[49m\u001b[38;5;241;43m.\u001b[39;49m\u001b[43mclick\u001b[49m\u001b[43m(\u001b[49m\u001b[43m)\u001b[49m\n",
      "File \u001b[0;32m~/opt/anaconda3/lib/python3.9/site-packages/selenium/webdriver/remote/webelement.py:89\u001b[0m, in \u001b[0;36mWebElement.click\u001b[0;34m(self)\u001b[0m\n\u001b[1;32m     87\u001b[0m \u001b[38;5;28;01mdef\u001b[39;00m \u001b[38;5;21mclick\u001b[39m(\u001b[38;5;28mself\u001b[39m) \u001b[38;5;241m-\u001b[39m\u001b[38;5;241m>\u001b[39m \u001b[38;5;28;01mNone\u001b[39;00m:\n\u001b[1;32m     88\u001b[0m     \u001b[38;5;124;03m\"\"\"Clicks the element.\"\"\"\u001b[39;00m\n\u001b[0;32m---> 89\u001b[0m     \u001b[38;5;28;43mself\u001b[39;49m\u001b[38;5;241;43m.\u001b[39;49m\u001b[43m_execute\u001b[49m\u001b[43m(\u001b[49m\u001b[43mCommand\u001b[49m\u001b[38;5;241;43m.\u001b[39;49m\u001b[43mCLICK_ELEMENT\u001b[49m\u001b[43m)\u001b[49m\n",
      "File \u001b[0;32m~/opt/anaconda3/lib/python3.9/site-packages/selenium/webdriver/remote/webelement.py:773\u001b[0m, in \u001b[0;36mWebElement._execute\u001b[0;34m(self, command, params)\u001b[0m\n\u001b[1;32m    771\u001b[0m     params \u001b[38;5;241m=\u001b[39m {}\n\u001b[1;32m    772\u001b[0m params[\u001b[38;5;124m'\u001b[39m\u001b[38;5;124mid\u001b[39m\u001b[38;5;124m'\u001b[39m] \u001b[38;5;241m=\u001b[39m \u001b[38;5;28mself\u001b[39m\u001b[38;5;241m.\u001b[39m_id\n\u001b[0;32m--> 773\u001b[0m \u001b[38;5;28;01mreturn\u001b[39;00m \u001b[38;5;28;43mself\u001b[39;49m\u001b[38;5;241;43m.\u001b[39;49m\u001b[43m_parent\u001b[49m\u001b[38;5;241;43m.\u001b[39;49m\u001b[43mexecute\u001b[49m\u001b[43m(\u001b[49m\u001b[43mcommand\u001b[49m\u001b[43m,\u001b[49m\u001b[43m \u001b[49m\u001b[43mparams\u001b[49m\u001b[43m)\u001b[49m\n",
      "File \u001b[0;32m~/opt/anaconda3/lib/python3.9/site-packages/selenium/webdriver/remote/webdriver.py:430\u001b[0m, in \u001b[0;36mWebDriver.execute\u001b[0;34m(self, driver_command, params)\u001b[0m\n\u001b[1;32m    428\u001b[0m response \u001b[38;5;241m=\u001b[39m \u001b[38;5;28mself\u001b[39m\u001b[38;5;241m.\u001b[39mcommand_executor\u001b[38;5;241m.\u001b[39mexecute(driver_command, params)\n\u001b[1;32m    429\u001b[0m \u001b[38;5;28;01mif\u001b[39;00m response:\n\u001b[0;32m--> 430\u001b[0m     \u001b[38;5;28;43mself\u001b[39;49m\u001b[38;5;241;43m.\u001b[39;49m\u001b[43merror_handler\u001b[49m\u001b[38;5;241;43m.\u001b[39;49m\u001b[43mcheck_response\u001b[49m\u001b[43m(\u001b[49m\u001b[43mresponse\u001b[49m\u001b[43m)\u001b[49m\n\u001b[1;32m    431\u001b[0m     response[\u001b[38;5;124m'\u001b[39m\u001b[38;5;124mvalue\u001b[39m\u001b[38;5;124m'\u001b[39m] \u001b[38;5;241m=\u001b[39m \u001b[38;5;28mself\u001b[39m\u001b[38;5;241m.\u001b[39m_unwrap_value(\n\u001b[1;32m    432\u001b[0m         response\u001b[38;5;241m.\u001b[39mget(\u001b[38;5;124m'\u001b[39m\u001b[38;5;124mvalue\u001b[39m\u001b[38;5;124m'\u001b[39m, \u001b[38;5;28;01mNone\u001b[39;00m))\n\u001b[1;32m    433\u001b[0m     \u001b[38;5;28;01mreturn\u001b[39;00m response\n",
      "File \u001b[0;32m~/opt/anaconda3/lib/python3.9/site-packages/selenium/webdriver/remote/errorhandler.py:247\u001b[0m, in \u001b[0;36mErrorHandler.check_response\u001b[0;34m(self, response)\u001b[0m\n\u001b[1;32m    245\u001b[0m         alert_text \u001b[38;5;241m=\u001b[39m value[\u001b[38;5;124m'\u001b[39m\u001b[38;5;124malert\u001b[39m\u001b[38;5;124m'\u001b[39m]\u001b[38;5;241m.\u001b[39mget(\u001b[38;5;124m'\u001b[39m\u001b[38;5;124mtext\u001b[39m\u001b[38;5;124m'\u001b[39m)\n\u001b[1;32m    246\u001b[0m     \u001b[38;5;28;01mraise\u001b[39;00m exception_class(message, screen, stacktrace, alert_text)  \u001b[38;5;66;03m# type: ignore[call-arg]  # mypy is not smart enough here\u001b[39;00m\n\u001b[0;32m--> 247\u001b[0m \u001b[38;5;28;01mraise\u001b[39;00m exception_class(message, screen, stacktrace)\n",
      "\u001b[0;31mElementClickInterceptedException\u001b[0m: Message: element click intercepted: Element <a id=\"info.search.place.more\" class=\"more\" href=\"#\">...</a> is not clickable at point (195, 549). Other element would receive the click: <div id=\"dimmedLayer\" class=\"DimmedLayer\" style=\"background-color: transparent;\"></div>\n  (Session info: chrome=104.0.5112.101)\nStacktrace:\n0   chromedriver                        0x0000000102c62ae0 chromedriver + 3828448\n1   chromedriver                        0x0000000102bf7f1c chromedriver + 3391260\n2   chromedriver                        0x00000001028f0fcc chromedriver + 217036\n3   chromedriver                        0x0000000102926df4 chromedriver + 437748\n4   chromedriver                        0x000000010292501c chromedriver + 430108\n5   chromedriver                        0x0000000102922e38 chromedriver + 421432\n6   chromedriver                        0x0000000102921dc4 chromedriver + 417220\n7   chromedriver                        0x000000010291791c chromedriver + 375068\n8   chromedriver                        0x0000000102917308 chromedriver + 373512\n9   chromedriver                        0x0000000102949b2c chromedriver + 580396\n10  chromedriver                        0x0000000102916010 chromedriver + 368656\n11  chromedriver                        0x0000000102c3839c chromedriver + 3654556\n12  chromedriver                        0x0000000102c3bc4c chromedriver + 3669068\n13  chromedriver                        0x0000000102c4014c chromedriver + 3686732\n14  chromedriver                        0x0000000102c3c654 chromedriver + 3671636\n15  chromedriver                        0x0000000102c1ab40 chromedriver + 3533632\n16  chromedriver                        0x0000000102c54414 chromedriver + 3769364\n17  chromedriver                        0x0000000102c54578 chromedriver + 3769720\n18  chromedriver                        0x0000000102c690f0 chromedriver + 3854576\n19  libsystem_pthread.dylib             0x000000019b2bc26c _pthread_start + 148\n20  libsystem_pthread.dylib             0x000000019b2b708c thread_start + 8\n"
     ]
    }
   ],
   "source": [
    "place = driver.find_element_by_css_selector('#info\\.search\\.place\\.more')\n",
    "place.click()"
   ]
  },
  {
   "cell_type": "markdown",
   "id": "672cbf79",
   "metadata": {},
   "source": [
    "#### - 장소이름 \n",
    "- BeautifulSoup 사용"
   ]
  },
  {
   "cell_type": "code",
   "execution_count": null,
   "id": "485acd08",
   "metadata": {},
   "outputs": [],
   "source": [
    "soup = bs(driver.page_source, 'lxml')"
   ]
  },
  {
   "cell_type": "code",
   "execution_count": null,
   "id": "7c4a982e",
   "metadata": {},
   "outputs": [],
   "source": [
    "title = soup.select('a.link_name')"
   ]
  },
  {
   "cell_type": "code",
   "execution_count": null,
   "id": "8f553e17",
   "metadata": {},
   "outputs": [],
   "source": [
    "len(title)"
   ]
  },
  {
   "cell_type": "markdown",
   "id": "fb41ecbb",
   "metadata": {},
   "source": [
    "#### - 별점 "
   ]
  },
  {
   "cell_type": "code",
   "execution_count": null,
   "id": "e98a3f11",
   "metadata": {},
   "outputs": [],
   "source": [
    "rating = soup.select('span.score > em')"
   ]
  },
  {
   "cell_type": "code",
   "execution_count": null,
   "id": "b924da36",
   "metadata": {},
   "outputs": [],
   "source": [
    "rating[0].text"
   ]
  },
  {
   "cell_type": "code",
   "execution_count": null,
   "id": "e379bfbc",
   "metadata": {},
   "outputs": [],
   "source": [
    "len(rating)"
   ]
  },
  {
   "cell_type": "markdown",
   "id": "44734bb7",
   "metadata": {},
   "source": [
    "### 페이지 번호 클릭하기"
   ]
  },
  {
   "cell_type": "code",
   "execution_count": null,
   "id": "9f5260f2",
   "metadata": {},
   "outputs": [],
   "source": [
    "for i in range(1,6):\n",
    "    page = driver.find_element_by_xpath('//*[@id=\"info.search.page.no{}\"]'.format(i))\n",
    "    page.click()\n",
    "    time.sleep(1)\n",
    "\n",
    "#다음버튼 ( > 표시)\n",
    "button= driver.find_element_by_css_selector('#info\\.search\\.page\\.next')\n",
    "button.click()"
   ]
  },
  {
   "cell_type": "markdown",
   "id": "23eab344",
   "metadata": {},
   "source": [
    "### 전체 정리"
   ]
  },
  {
   "cell_type": "code",
   "execution_count": null,
   "id": "6eeb6736",
   "metadata": {},
   "outputs": [],
   "source": [
    "title_list=[]\n",
    "rating_list = []\n",
    "\n",
    "while True:\n",
    "    try:\n",
    "        for i in range(1,6):\n",
    "            page = driver.find_element_by_xpath('//*[@id=\"info.search.page.no{}\"]'.format(i)) #다음페이지로 넘어가기\n",
    "            page.click()\n",
    "\n",
    "            soup = bs(driver.page_source, 'lxml') #현재 페이지소스가져오고\n",
    "            time.sleep(1)\n",
    "\n",
    "            title = soup.select('a.link_name') #타이틀 정보 가져오고\n",
    "            rating = soup.select('span.score > em') #별점 정보 가져오고\n",
    "\n",
    "            for j in range(len(title)): \n",
    "                title_list.append(title[j].text)\n",
    "                rating_list.append(rating[j].text)\n",
    "                print(title[j].text, rating[j].text)\n",
    "\n",
    "            time.sleep(1)\n",
    "\n",
    "        #다음버튼 ( > 표시)\n",
    "        button= driver.find_element_by_css_selector('#info\\.search\\.page\\.next')\n",
    "        button.click()\n",
    "    \n",
    "    except:\n",
    "        break"
   ]
  },
  {
   "cell_type": "code",
   "execution_count": null,
   "id": "bf0bcf26",
   "metadata": {},
   "outputs": [],
   "source": []
  }
 ],
 "metadata": {
  "kernelspec": {
   "display_name": "Python 3 (ipykernel)",
   "language": "python",
   "name": "python3"
  },
  "language_info": {
   "codemirror_mode": {
    "name": "ipython",
    "version": 3
   },
   "file_extension": ".py",
   "mimetype": "text/x-python",
   "name": "python",
   "nbconvert_exporter": "python",
   "pygments_lexer": "ipython3",
   "version": "3.9.12"
  }
 },
 "nbformat": 4,
 "nbformat_minor": 5
}
