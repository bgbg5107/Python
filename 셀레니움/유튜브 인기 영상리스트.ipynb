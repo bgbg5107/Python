{
 "cells": [
  {
   "cell_type": "code",
   "execution_count": 52,
   "id": "5ebcf673",
   "metadata": {},
   "outputs": [],
   "source": [
    "from selenium import webdriver\n",
    "import time\n",
    "from selenium.webdriver.common.keys import Keys\n",
    "from bs4 import BeautifulSoup\n",
    "import pandas as pd"
   ]
  },
  {
   "cell_type": "code",
   "execution_count": 2,
   "id": "5ed47b11",
   "metadata": {},
   "outputs": [
    {
     "name": "stderr",
     "output_type": "stream",
     "text": [
      "/var/folders/wy/34j5dqtj7rq_z64p1mtz2f_w0000gn/T/ipykernel_1435/3167939760.py:1: DeprecationWarning: executable_path has been deprecated, please pass in a Service object\n",
      "  browser = webdriver.Chrome('/Users/jiyoung/chromedriver')\n"
     ]
    }
   ],
   "source": [
    "browser = webdriver.Chrome('/Users/jiyoung/chromedriver')"
   ]
  },
  {
   "cell_type": "code",
   "execution_count": 4,
   "id": "5236a2a0",
   "metadata": {},
   "outputs": [],
   "source": [
    "url = 'https://www.youtube.com/feed/trending?bp=6gQJRkVleHBsb3Jl'\n",
    "browser.get(url)"
   ]
  },
  {
   "cell_type": "code",
   "execution_count": 8,
   "id": "192fd42d",
   "metadata": {},
   "outputs": [],
   "source": [
    "html = browser.page_source\n",
    "soup = BeautifulSoup(html,'html.parser')"
   ]
  },
  {
   "cell_type": "markdown",
   "id": "c8b17ad8",
   "metadata": {},
   "source": [
    "##### 영상별 정보"
   ]
  },
  {
   "cell_type": "code",
   "execution_count": 21,
   "id": "b33f9545",
   "metadata": {},
   "outputs": [
    {
     "data": {
      "text/plain": [
       "98"
      ]
     },
     "execution_count": 21,
     "metadata": {},
     "output_type": "execute_result"
    }
   ],
   "source": [
    "clips = soup.select('ytd-video-renderer')\n",
    "len(clips)"
   ]
  },
  {
   "cell_type": "markdown",
   "id": "b7a209dd",
   "metadata": {},
   "source": [
    "##### 제목"
   ]
  },
  {
   "cell_type": "code",
   "execution_count": 30,
   "id": "4e530266",
   "metadata": {},
   "outputs": [
    {
     "data": {
      "text/plain": [
       "'[아형✪하이라이트] 5년 만에 아는 형님 출격했소시( *˘╰╯˘*) 더 거침 없어진 소녀시대 입담 모음🤍 | 아는 형님 | JTBC 220813 방송'"
      ]
     },
     "execution_count": 30,
     "metadata": {},
     "output_type": "execute_result"
    }
   ],
   "source": [
    "# 전체중 대표 하나를 정함\n",
    "clip = clips[0]\n",
    "title = clip.select('#video-title>yt-formatted-string')[0].text\n",
    "title"
   ]
  },
  {
   "cell_type": "markdown",
   "id": "72b51858",
   "metadata": {},
   "source": [
    "##### 링크"
   ]
  },
  {
   "cell_type": "code",
   "execution_count": 36,
   "id": "787488fc",
   "metadata": {},
   "outputs": [
    {
     "data": {
      "text/plain": [
       "'https://www.youtube.com/watch?v=ymKqU-yUiuw'"
      ]
     },
     "execution_count": 36,
     "metadata": {},
     "output_type": "execute_result"
    }
   ],
   "source": [
    "link = \"https://www.youtube.com\" + clip.select('#video-title')[0]['href']\n",
    "link"
   ]
  },
  {
   "cell_type": "markdown",
   "id": "447ec46f",
   "metadata": {},
   "source": [
    "##### 제목 + 링크 + dataframe"
   ]
  },
  {
   "cell_type": "code",
   "execution_count": 49,
   "id": "f8bb9399",
   "metadata": {},
   "outputs": [],
   "source": [
    "# clip = clips[1]\n",
    "\n",
    "results = []\n",
    "for clip in clips:\n",
    "    title = clip.select('#video-title>yt-formatted-string')[0].text\n",
    "    link = \"https://www.youtube.com\" + clip.select('#video-title')[0]['href']\n",
    "   \n",
    "     data = [title,link]\n",
    "    results.append(data)"
   ]
  },
  {
   "cell_type": "code",
   "execution_count": 55,
   "id": "8302d65d",
   "metadata": {},
   "outputs": [],
   "source": [
    "df = pd.DataFrame(results)\n",
    "df.columns = ['영상제목','링크']\n",
    "df.to_excel('./인기영상리스트.xlsx', index = False)"
   ]
  }
 ],
 "metadata": {
  "kernelspec": {
   "display_name": "Python 3 (ipykernel)",
   "language": "python",
   "name": "python3"
  },
  "language_info": {
   "codemirror_mode": {
    "name": "ipython",
    "version": 3
   },
   "file_extension": ".py",
   "mimetype": "text/x-python",
   "name": "python",
   "nbconvert_exporter": "python",
   "pygments_lexer": "ipython3",
   "version": "3.9.12"
  }
 },
 "nbformat": 4,
 "nbformat_minor": 5
}
