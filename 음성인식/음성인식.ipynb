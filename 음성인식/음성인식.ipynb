{
 "cells": [
  {
   "cell_type": "code",
   "execution_count": null,
   "id": "e83945fc",
   "metadata": {
    "scrolled": true
   },
   "outputs": [],
   "source": [
    "from gtts import gTTS\n",
    "from playsound import playsound\n",
    "\n",
    "# text='Can I help you?'\n",
    "file_name = 'test.mp3'\n",
    "# tts_en = gTTS(text=text, lang='en')\n",
    "# tts_en.save(file_name)\n",
    "# playsound(file_name)\n",
    "\n",
    "\n",
    "# text = \"음성인식이 제발 잘 되었으면 좋겠다\"\n",
    "# tts_ko = gTTS(text=text, lang='ko')\n",
    "# tts_ko.save(file_name)\n",
    "# playsound(file_name)\n",
    "\n",
    "with open('test.txt', 'r', encoding='utf8') as f:\n",
    "    text = f.read()\n",
    "    \n",
    "    tts_ko = gTTS(text=text, lang='ko')\n",
    "    tts_ko.save(file_name)\n",
    "    playsound(file_name)"
   ]
  },
  {
   "cell_type": "code",
   "execution_count": null,
   "id": "3fdb7dac",
   "metadata": {},
   "outputs": [],
   "source": []
  },
  {
   "cell_type": "code",
   "execution_count": null,
   "id": "4ea87087",
   "metadata": {},
   "outputs": [],
   "source": [
    "pip install playsound==1.2.2"
   ]
  },
  {
   "cell_type": "code",
   "execution_count": null,
   "id": "1b8c518f",
   "metadata": {},
   "outputs": [],
   "source": []
  },
  {
   "cell_type": "code",
   "execution_count": null,
   "id": "711ea83d",
   "metadata": {},
   "outputs": [],
   "source": [
    "import speech_recognition as sr\n",
    "r = sr.Recognizer()\n",
    "with sr.Microphone() as source:\n",
    "    print('듣는중')\n",
    "    audio = r.listen(source)\n",
    "    \n",
    "try:\n",
    "    text = r.recognize_google(audio, language='ko-KR')\n",
    "    print(text)\n",
    "except sr.UnknownValueError:\n",
    "    print('인식 실패')\n",
    "except sr.RequestError as e:\n",
    "    print(\"요청실패:{0}\".format(e))"
   ]
  },
  {
   "cell_type": "code",
   "execution_count": null,
   "id": "2d1ef338",
   "metadata": {},
   "outputs": [],
   "source": []
  },
  {
   "cell_type": "code",
   "execution_count": 1,
   "id": "e95684cd",
   "metadata": {},
   "outputs": [
    {
     "name": "stdout",
     "output_type": "stream",
     "text": [
      "[인공지능]음성으로 주문을 하시려면 주문할게요 라고 말씀해주세요\n",
      "인식 실패\n",
      "인식 실패\n"
     ]
    },
    {
     "ename": "KeyboardInterrupt",
     "evalue": "",
     "output_type": "error",
     "traceback": [
      "\u001b[1;31m---------------------------------------------------------------------------\u001b[0m",
      "\u001b[1;31mKeyboardInterrupt\u001b[0m                         Traceback (most recent call last)",
      "Cell \u001b[1;32mIn [1], line 49\u001b[0m\n\u001b[0;32m     46\u001b[0m \u001b[38;5;66;03m# stop_listening(wait_for_stop = False) #더 이상 듣지 않음\u001b[39;00m\n\u001b[0;32m     48\u001b[0m \u001b[38;5;28;01mwhile\u001b[39;00m \u001b[38;5;28;01mTrue\u001b[39;00m:\n\u001b[1;32m---> 49\u001b[0m     \u001b[43mtime\u001b[49m\u001b[38;5;241;43m.\u001b[39;49m\u001b[43msleep\u001b[49m\u001b[43m(\u001b[49m\u001b[38;5;241;43m0.1\u001b[39;49m\u001b[43m)\u001b[49m\n",
      "\u001b[1;31mKeyboardInterrupt\u001b[0m: "
     ]
    }
   ],
   "source": [
    "import speech_recognition as sr\n",
    "import time, os\n",
    "from gtts import gTTS\n",
    "from playsound import playsound\n",
    "\n",
    "# 음성인식(듣기, STT)\n",
    "def listen(recognizer, audio):\n",
    "    try:\n",
    "        text = recognizer.recognize_google(audio, language='ko')\n",
    "        print('[이지영]' + text)\n",
    "        answer(text)\n",
    "    except sr.UnknownValueError:\n",
    "        print('인식 실패')\n",
    "    except sr.RequestError as e:\n",
    "        print('요청 실패')\n",
    "#         print(\"요청실패:{0}\".format(e))\n",
    "\n",
    "# 대답\n",
    "def answer(input_text):\n",
    "    answer_text = ''\n",
    "    if '주문할게요' in input_text:\n",
    "        answer_text = '주문을 시작합니다. 추천 토핑을 선택하시겠습니까?'\n",
    "    elif '오케이' in input_text:\n",
    "        answer_text = '선택하신 토핑을 확인해주세요. 모두 맞으면 선택완료했어요 라고 말씀해주세요.'\n",
    "    elif '선택완료했어요' in input_text:\n",
    "        answer_text = '주문이 완료되었습니다.'\n",
    "        stop_listening(wait_for_stop = False)\n",
    "    else:\n",
    "        answer_text = '다시 한번 말씀해주세요'\n",
    "    speak(answer_text)\n",
    "    \n",
    "# 소리내어 읽기(TTS)\n",
    "def speak(text):\n",
    "    print('[인공지능]' + text)\n",
    "    file_name = 'test.mp3'\n",
    "    tts = gTTS(text=text, lang='ko')\n",
    "    tts.save(file_name)\n",
    "    playsound(file_name)\n",
    "    if os.path.exists(file_name):\n",
    "        os.remove(file_name)\n",
    "\n",
    "r = sr.Recognizer()\n",
    "m = sr.Microphone()\n",
    "\n",
    "speak('음성으로 주문을 하시려면 주문할게요 라고 말씀해주세요')\n",
    "stop_listening = r.listen_in_background(m, listen)\n",
    "# stop_listening(wait_for_stop = False) #더 이상 듣지 않음\n",
    "\n",
    "while True:\n",
    "    time.sleep(0.1)\n",
    "    "
   ]
  }
 ],
 "metadata": {
  "kernelspec": {
   "display_name": "Python 3 (ipykernel)",
   "language": "python",
   "name": "python3"
  },
  "language_info": {
   "codemirror_mode": {
    "name": "ipython",
    "version": 3
   },
   "file_extension": ".py",
   "mimetype": "text/x-python",
   "name": "python",
   "nbconvert_exporter": "python",
   "pygments_lexer": "ipython3",
   "version": "3.9.12"
  }
 },
 "nbformat": 4,
 "nbformat_minor": 5
}
